{
 "cells": [
  {
   "cell_type": "code",
   "execution_count": 17,
   "id": "9f8727ed-c307-4697-a3ab-1ce9deebf297",
   "metadata": {},
   "outputs": [],
   "source": [
    "from selenium import webdriver\n",
    "from selenium.webdriver.common.keys import Keys\n",
    "import time, urllib.request\n",
    "import requests\n",
    "import time\n",
    "from selenium import webdriver\n",
    "from selenium.webdriver.common.by import By\n",
    "from selenium.webdriver.chrome.options import Options\n",
    "from selenium.webdriver.support.ui import WebDriverWait\n",
    "from selenium.webdriver.support import expected_conditions as EC\n",
    "from bs4 import BeautifulSoup\n",
    "from credentials import insta_user, insta_password"
   ]
  },
  {
   "cell_type": "code",
   "execution_count": 23,
   "id": "bebef2f2-96e8-48a6-944e-c8bc2f922927",
   "metadata": {},
   "outputs": [
    {
     "name": "stdout",
     "output_type": "stream",
     "text": [
      "Could not find the cookies button: Message: no such element: Unable to locate element: {\"method\":\"xpath\",\"selector\":\"/html/body/div[5]/div[1]/div/div[2]/div/div/div/div/div[2]/div/button[1]\"}\n",
      "  (Session info: chrome=117.0.5938.149); For documentation on this error, please visit: https://www.selenium.dev/documentation/webdriver/troubleshooting/errors#no-such-element-exception\n",
      "Stacktrace:\n",
      "\tGetHandleVerifier [0x00007FF66DC57D12+55474]\n",
      "\t(No symbol) [0x00007FF66DBC77C2]\n",
      "\t(No symbol) [0x00007FF66DA7E0EB]\n",
      "\t(No symbol) [0x00007FF66DABEBAC]\n",
      "\t(No symbol) [0x00007FF66DABED2C]\n",
      "\t(No symbol) [0x00007FF66DAF9F77]\n",
      "\t(No symbol) [0x00007FF66DADF19F]\n",
      "\t(No symbol) [0x00007FF66DAF7EF2]\n",
      "\t(No symbol) [0x00007FF66DADEF33]\n",
      "\t(No symbol) [0x00007FF66DAB3D41]\n",
      "\t(No symbol) [0x00007FF66DAB4F84]\n",
      "\tGetHandleVerifier [0x00007FF66DFBB762+3609346]\n",
      "\tGetHandleVerifier [0x00007FF66E011A80+3962400]\n",
      "\tGetHandleVerifier [0x00007FF66E009F0F+3930799]\n",
      "\tGetHandleVerifier [0x00007FF66DCF3CA6+694342]\n",
      "\t(No symbol) [0x00007FF66DBD2218]\n",
      "\t(No symbol) [0x00007FF66DBCE484]\n",
      "\t(No symbol) [0x00007FF66DBCE5B2]\n",
      "\t(No symbol) [0x00007FF66DBBEE13]\n",
      "\tBaseThreadInitThunk [0x00007FFC2938257D+29]\n",
      "\tRtlUserThreadStart [0x00007FFC2A72AA68+40]\n",
      "\n"
     ]
    }
   ],
   "source": [
    "PATH = r\"D:\\coding\\chromedriver.exe\"\n",
    "options = Options()\n",
    "driver = webdriver.Chrome(options=options)\n",
    "driver.get(\"https://www.instagram.com/\")\n",
    "user = insta_user\n",
    "code = insta_password\n",
    "\n",
    "try:\n",
    "    cookies = driver.find_element(By.XPATH, '/html/body/div[5]/div[1]/div/div[2]/div/div/div/div/div[2]/div/button[1]')\n",
    "    cookies.click()\n",
    "except Exception as e:\n",
    "    print(f\"Could not find the cookies button: {e}\")\n",
    "    \n",
    "time.sleep(5)\n",
    "username = driver.find_element(By.CSS_SELECTOR, \"input[name='username']\")\n",
    "password = driver.find_element(By.CSS_SELECTOR, \"input[name='password']\")\n",
    "username.clear()\n",
    "password.clear()\n",
    "\n",
    "username.send_keys({user})\n",
    "password.send_keys({code})\n",
    "\n",
    "login_button = driver.find_element(By.CSS_SELECTOR, \"button[type='submit']\")\n",
    "login_button.click()"
   ]
  },
  {
   "cell_type": "code",
   "execution_count": 22,
   "id": "8e582c6e-99c0-426b-ab2b-b7a56b47711a",
   "metadata": {},
   "outputs": [
    {
     "name": "stdout",
     "output_type": "stream",
     "text": [
      "Could not find the cookies button: Message: no such element: Unable to locate element: {\"method\":\"xpath\",\"selector\":\"/html/body/div[5]/div[1]/div/div[2]/div/div/div/div/div[2]/div/button[1]\"}\n",
      "  (Session info: chrome=117.0.5938.149); For documentation on this error, please visit: https://www.selenium.dev/documentation/webdriver/troubleshooting/errors#no-such-element-exception\n",
      "Stacktrace:\n",
      "\tGetHandleVerifier [0x00007FF66DC57D12+55474]\n",
      "\t(No symbol) [0x00007FF66DBC77C2]\n",
      "\t(No symbol) [0x00007FF66DA7E0EB]\n",
      "\t(No symbol) [0x00007FF66DABEBAC]\n",
      "\t(No symbol) [0x00007FF66DABED2C]\n",
      "\t(No symbol) [0x00007FF66DAF9F77]\n",
      "\t(No symbol) [0x00007FF66DADF19F]\n",
      "\t(No symbol) [0x00007FF66DAF7EF2]\n",
      "\t(No symbol) [0x00007FF66DADEF33]\n",
      "\t(No symbol) [0x00007FF66DAB3D41]\n",
      "\t(No symbol) [0x00007FF66DAB4F84]\n",
      "\tGetHandleVerifier [0x00007FF66DFBB762+3609346]\n",
      "\tGetHandleVerifier [0x00007FF66E011A80+3962400]\n",
      "\tGetHandleVerifier [0x00007FF66E009F0F+3930799]\n",
      "\tGetHandleVerifier [0x00007FF66DCF3CA6+694342]\n",
      "\t(No symbol) [0x00007FF66DBD2218]\n",
      "\t(No symbol) [0x00007FF66DBCE484]\n",
      "\t(No symbol) [0x00007FF66DBCE5B2]\n",
      "\t(No symbol) [0x00007FF66DBBEE13]\n",
      "\tBaseThreadInitThunk [0x00007FFC2938257D+29]\n",
      "\tRtlUserThreadStart [0x00007FFC2A72AA68+40]\n",
      "\n"
     ]
    }
   ],
   "source": [
    "from selenium import webdriver\n",
    "from selenium.webdriver.common.by import By\n",
    "from credentials import insta_user, insta_password\n",
    "from time import sleep\n",
    "\n",
    "class Bot():\n",
    "    def __init__(self):\n",
    "        self.login(insta_user, insta_password)\n",
    "\n",
    "    def login(self, insta_user, insta_password):\n",
    "\n",
    "        self.driver = webdriver.Chrome()\n",
    "        self.driver.get('https://instagram.com/')\n",
    "        sleep(5)\n",
    "\n",
    "        # click cookies pop up\n",
    "        try:\n",
    "            cookies = self.driver.find_element(By.XPATH, '/html/body/div[5]/div[1]/div/div[2]/div/div/div/div/div[2]/div/button[1]')\n",
    "            cookies.click()\n",
    "        except Exception as e:\n",
    "            print(f\"Could not find the cookies button: {e}\")\n",
    "\n",
    "        sleep(3)\n",
    "\n",
    "        # Enter username/password\n",
    "        username = self.driver.find_element(By.CSS_SELECTOR, \"input[name='username']\")\n",
    "        password = self.driver.find_element(By.CSS_SELECTOR, \"input[name='password']\")\n",
    "        username.clear()\n",
    "        password.clear()\n",
    "\n",
    "        username.send_keys(insta_user)\n",
    "        password.send_keys(insta_password)\n",
    "\n",
    "        login_button = self.driver.find_element(By.CSS_SELECTOR, \"button[type='submit']\")\n",
    "        login_button.click()\n",
    "\n",
    "\n",
    "def main():\n",
    "    my_bot = Bot()\n",
    "\n",
    "\n",
    "if __name__ == '__main__':\n",
    "    main()"
   ]
  },
  {
   "cell_type": "code",
   "execution_count": 16,
   "id": "3c32fada-f33b-48f6-84fd-f94e1dcdaae2",
   "metadata": {},
   "outputs": [],
   "source": [
    "driver.get(\"https://www.instagram.com/clave.xt/\")\n",
    "time.sleep(5)"
   ]
  },
  {
   "cell_type": "code",
   "execution_count": 18,
   "id": "3f4ab375-90ae-4ab5-b90c-f93725eff419",
   "metadata": {},
   "outputs": [
    {
     "ename": "NoSuchElementException",
     "evalue": "Message: no such element: Unable to locate element: {\"method\":\"xpath\",\"selector\":\"//div[contains(text(), 'Create Post')]\"}\n  (Session info: chrome=117.0.5938.149); For documentation on this error, please visit: https://www.selenium.dev/documentation/webdriver/troubleshooting/errors#no-such-element-exception\nStacktrace:\n\tGetHandleVerifier [0x00007FF784897D12+55474]\n\t(No symbol) [0x00007FF7848077C2]\n\t(No symbol) [0x00007FF7846BE0EB]\n\t(No symbol) [0x00007FF7846FEBAC]\n\t(No symbol) [0x00007FF7846FED2C]\n\t(No symbol) [0x00007FF784739F77]\n\t(No symbol) [0x00007FF78471F19F]\n\t(No symbol) [0x00007FF784737EF2]\n\t(No symbol) [0x00007FF78471EF33]\n\t(No symbol) [0x00007FF7846F3D41]\n\t(No symbol) [0x00007FF7846F4F84]\n\tGetHandleVerifier [0x00007FF784BFB762+3609346]\n\tGetHandleVerifier [0x00007FF784C51A80+3962400]\n\tGetHandleVerifier [0x00007FF784C49F0F+3930799]\n\tGetHandleVerifier [0x00007FF784933CA6+694342]\n\t(No symbol) [0x00007FF784812218]\n\t(No symbol) [0x00007FF78480E484]\n\t(No symbol) [0x00007FF78480E5B2]\n\t(No symbol) [0x00007FF7847FEE13]\n\tBaseThreadInitThunk [0x00007FFC2938257D+29]\n\tRtlUserThreadStart [0x00007FFC2A72AA68+40]\n",
     "output_type": "error",
     "traceback": [
      "\u001b[1;31m---------------------------------------------------------------------------\u001b[0m",
      "\u001b[1;31mNoSuchElementException\u001b[0m                    Traceback (most recent call last)",
      "Cell \u001b[1;32mIn[18], line 1\u001b[0m\n\u001b[1;32m----> 1\u001b[0m new_post_button \u001b[38;5;241m=\u001b[39m \u001b[43mdriver\u001b[49m\u001b[38;5;241;43m.\u001b[39;49m\u001b[43mfind_element\u001b[49m\u001b[43m(\u001b[49m\u001b[43mBy\u001b[49m\u001b[38;5;241;43m.\u001b[39;49m\u001b[43mXPATH\u001b[49m\u001b[43m,\u001b[49m\u001b[43m \u001b[49m\u001b[38;5;124;43m\"\u001b[39;49m\u001b[38;5;124;43m//div[contains(text(), \u001b[39;49m\u001b[38;5;124;43m'\u001b[39;49m\u001b[38;5;124;43mCreate Post\u001b[39;49m\u001b[38;5;124;43m'\u001b[39;49m\u001b[38;5;124;43m)]\u001b[39;49m\u001b[38;5;124;43m\"\u001b[39;49m\u001b[43m)\u001b[49m\n\u001b[0;32m      2\u001b[0m new_post_button\u001b[38;5;241m.\u001b[39mclick()\n",
      "File \u001b[1;32m~\\AppData\\Local\\Programs\\Python\\Python311\\Lib\\site-packages\\selenium\\webdriver\\remote\\webdriver.py:738\u001b[0m, in \u001b[0;36mWebDriver.find_element\u001b[1;34m(self, by, value)\u001b[0m\n\u001b[0;32m    735\u001b[0m     by \u001b[38;5;241m=\u001b[39m By\u001b[38;5;241m.\u001b[39mCSS_SELECTOR\n\u001b[0;32m    736\u001b[0m     value \u001b[38;5;241m=\u001b[39m \u001b[38;5;124mf\u001b[39m\u001b[38;5;124m'\u001b[39m\u001b[38;5;124m[name=\u001b[39m\u001b[38;5;124m\"\u001b[39m\u001b[38;5;132;01m{\u001b[39;00mvalue\u001b[38;5;132;01m}\u001b[39;00m\u001b[38;5;124m\"\u001b[39m\u001b[38;5;124m]\u001b[39m\u001b[38;5;124m'\u001b[39m\n\u001b[1;32m--> 738\u001b[0m \u001b[38;5;28;01mreturn\u001b[39;00m \u001b[38;5;28;43mself\u001b[39;49m\u001b[38;5;241;43m.\u001b[39;49m\u001b[43mexecute\u001b[49m\u001b[43m(\u001b[49m\u001b[43mCommand\u001b[49m\u001b[38;5;241;43m.\u001b[39;49m\u001b[43mFIND_ELEMENT\u001b[49m\u001b[43m,\u001b[49m\u001b[43m \u001b[49m\u001b[43m{\u001b[49m\u001b[38;5;124;43m\"\u001b[39;49m\u001b[38;5;124;43musing\u001b[39;49m\u001b[38;5;124;43m\"\u001b[39;49m\u001b[43m:\u001b[49m\u001b[43m \u001b[49m\u001b[43mby\u001b[49m\u001b[43m,\u001b[49m\u001b[43m \u001b[49m\u001b[38;5;124;43m\"\u001b[39;49m\u001b[38;5;124;43mvalue\u001b[39;49m\u001b[38;5;124;43m\"\u001b[39;49m\u001b[43m:\u001b[49m\u001b[43m \u001b[49m\u001b[43mvalue\u001b[49m\u001b[43m}\u001b[49m\u001b[43m)\u001b[49m[\u001b[38;5;124m\"\u001b[39m\u001b[38;5;124mvalue\u001b[39m\u001b[38;5;124m\"\u001b[39m]\n",
      "File \u001b[1;32m~\\AppData\\Local\\Programs\\Python\\Python311\\Lib\\site-packages\\selenium\\webdriver\\remote\\webdriver.py:344\u001b[0m, in \u001b[0;36mWebDriver.execute\u001b[1;34m(self, driver_command, params)\u001b[0m\n\u001b[0;32m    342\u001b[0m response \u001b[38;5;241m=\u001b[39m \u001b[38;5;28mself\u001b[39m\u001b[38;5;241m.\u001b[39mcommand_executor\u001b[38;5;241m.\u001b[39mexecute(driver_command, params)\n\u001b[0;32m    343\u001b[0m \u001b[38;5;28;01mif\u001b[39;00m response:\n\u001b[1;32m--> 344\u001b[0m     \u001b[38;5;28;43mself\u001b[39;49m\u001b[38;5;241;43m.\u001b[39;49m\u001b[43merror_handler\u001b[49m\u001b[38;5;241;43m.\u001b[39;49m\u001b[43mcheck_response\u001b[49m\u001b[43m(\u001b[49m\u001b[43mresponse\u001b[49m\u001b[43m)\u001b[49m\n\u001b[0;32m    345\u001b[0m     response[\u001b[38;5;124m\"\u001b[39m\u001b[38;5;124mvalue\u001b[39m\u001b[38;5;124m\"\u001b[39m] \u001b[38;5;241m=\u001b[39m \u001b[38;5;28mself\u001b[39m\u001b[38;5;241m.\u001b[39m_unwrap_value(response\u001b[38;5;241m.\u001b[39mget(\u001b[38;5;124m\"\u001b[39m\u001b[38;5;124mvalue\u001b[39m\u001b[38;5;124m\"\u001b[39m, \u001b[38;5;28;01mNone\u001b[39;00m))\n\u001b[0;32m    346\u001b[0m     \u001b[38;5;28;01mreturn\u001b[39;00m response\n",
      "File \u001b[1;32m~\\AppData\\Local\\Programs\\Python\\Python311\\Lib\\site-packages\\selenium\\webdriver\\remote\\errorhandler.py:229\u001b[0m, in \u001b[0;36mErrorHandler.check_response\u001b[1;34m(self, response)\u001b[0m\n\u001b[0;32m    227\u001b[0m         alert_text \u001b[38;5;241m=\u001b[39m value[\u001b[38;5;124m\"\u001b[39m\u001b[38;5;124malert\u001b[39m\u001b[38;5;124m\"\u001b[39m]\u001b[38;5;241m.\u001b[39mget(\u001b[38;5;124m\"\u001b[39m\u001b[38;5;124mtext\u001b[39m\u001b[38;5;124m\"\u001b[39m)\n\u001b[0;32m    228\u001b[0m     \u001b[38;5;28;01mraise\u001b[39;00m exception_class(message, screen, stacktrace, alert_text)  \u001b[38;5;66;03m# type: ignore[call-arg]  # mypy is not smart enough here\u001b[39;00m\n\u001b[1;32m--> 229\u001b[0m \u001b[38;5;28;01mraise\u001b[39;00m exception_class(message, screen, stacktrace)\n",
      "\u001b[1;31mNoSuchElementException\u001b[0m: Message: no such element: Unable to locate element: {\"method\":\"xpath\",\"selector\":\"//div[contains(text(), 'Create Post')]\"}\n  (Session info: chrome=117.0.5938.149); For documentation on this error, please visit: https://www.selenium.dev/documentation/webdriver/troubleshooting/errors#no-such-element-exception\nStacktrace:\n\tGetHandleVerifier [0x00007FF784897D12+55474]\n\t(No symbol) [0x00007FF7848077C2]\n\t(No symbol) [0x00007FF7846BE0EB]\n\t(No symbol) [0x00007FF7846FEBAC]\n\t(No symbol) [0x00007FF7846FED2C]\n\t(No symbol) [0x00007FF784739F77]\n\t(No symbol) [0x00007FF78471F19F]\n\t(No symbol) [0x00007FF784737EF2]\n\t(No symbol) [0x00007FF78471EF33]\n\t(No symbol) [0x00007FF7846F3D41]\n\t(No symbol) [0x00007FF7846F4F84]\n\tGetHandleVerifier [0x00007FF784BFB762+3609346]\n\tGetHandleVerifier [0x00007FF784C51A80+3962400]\n\tGetHandleVerifier [0x00007FF784C49F0F+3930799]\n\tGetHandleVerifier [0x00007FF784933CA6+694342]\n\t(No symbol) [0x00007FF784812218]\n\t(No symbol) [0x00007FF78480E484]\n\t(No symbol) [0x00007FF78480E5B2]\n\t(No symbol) [0x00007FF7847FEE13]\n\tBaseThreadInitThunk [0x00007FFC2938257D+29]\n\tRtlUserThreadStart [0x00007FFC2A72AA68+40]\n"
     ]
    }
   ],
   "source": [
    "new_post_button = driver.find_element(By.CSS_SELECTOR, \"//div[contains(text(), 'Create Post')]\")\n",
    "new_post_button.click()"
   ]
  },
  {
   "cell_type": "code",
   "execution_count": null,
   "id": "3a8ea765-7880-49cb-855d-1e9617292b18",
   "metadata": {},
   "outputs": [],
   "source": []
  }
 ],
 "metadata": {
  "kernelspec": {
   "display_name": "Python 3 (ipykernel)",
   "language": "python",
   "name": "python3"
  },
  "language_info": {
   "codemirror_mode": {
    "name": "ipython",
    "version": 3
   },
   "file_extension": ".py",
   "mimetype": "text/x-python",
   "name": "python",
   "nbconvert_exporter": "python",
   "pygments_lexer": "ipython3",
   "version": "3.11.5"
  }
 },
 "nbformat": 4,
 "nbformat_minor": 5
}
