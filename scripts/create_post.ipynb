{
 "cells": [
  {
   "cell_type": "markdown",
   "id": "12ea9d50-53ef-4992-ba4c-9b86f8f6be36",
   "metadata": {},
   "source": [
    "this output should be what the model gives mein terms of the best to post - but for now just use any"
   ]
  },
  {
   "cell_type": "code",
   "execution_count": 60,
   "id": "09e1df10-ba8b-4326-9b71-5afdca4da6c2",
   "metadata": {},
   "outputs": [],
   "source": [
    "import json\n",
    "import pandas as pd\n",
    "import sqlite3\n",
    "import json\n",
    "import logging\n",
    "import requests\n",
    "from credentials import insta_user, insta_password"
   ]
  },
  {
   "cell_type": "code",
   "execution_count": 61,
   "id": "11afb0bd-ca25-4e56-9d79-8cc8d84dd6de",
   "metadata": {},
   "outputs": [],
   "source": [
    "conn = sqlite3.connect(\"D:\\coding\\instagram\\dbs\\insta_hashtag_data1.db\")\n",
    "cur = conn.cursor()"
   ]
  },
  {
   "cell_type": "code",
   "execution_count": 62,
   "id": "01723dc0-f027-4774-90ac-e921abb22d39",
   "metadata": {},
   "outputs": [],
   "source": [
    "query = \"SELECT * FROM insta_hashtag_data1 ORDER BY likesCount DESC LIMIT 1\""
   ]
  },
  {
   "cell_type": "code",
   "execution_count": 63,
   "id": "83d396ff-80ec-4537-ac1c-11bc2063fc49",
   "metadata": {},
   "outputs": [],
   "source": [
    "cur.execute(query)\n",
    "best_post = cur.fetchone()"
   ]
  },
  {
   "cell_type": "code",
   "execution_count": 64,
   "id": "089a068b-7d04-4118-b48b-e298c585fb7d",
   "metadata": {},
   "outputs": [
    {
     "data": {
      "text/plain": [
       "('3173766497049603539',\n",
       " 'Sidecar',\n",
       " 'CwLe9BQrW3T',\n",
       " '⅋ 🏷️\\n\\nVia. @allconditionsclub \\n\\n—————————————————-\\n𝘍𝘰𝘭𝘭𝘰𝘸 @𝙜𝙤𝙧𝙥𝙬𝙤𝙧𝙡𝙙 𝘧𝘰𝘳 𝘮𝘰𝘳𝘦 𝘤𝘰𝘯𝘵𝘦𝘯𝘵\\n.\\n.\\n.\\n.\\n.\\n.\\n.\\n.\\n#ootd #arctery× #outdoor #outdoors #explore #gorpcore #goretexstudio #hypebeast #grailed #fashionmoodboard #outdoorlife #hiking #itsbetteroutside #outdoorism #getoutside #gorpworld',\n",
       " '[\"ootd\", \"arctery\\\\u00d7\", \"outdoor\", \"outdoors\", \"explore\", \"gorpcore\", \"goretexstudio\", \"hypebeast\", \"grailed\", \"fashionmoodboard\", \"outdoorlife\", \"hiking\", \"itsbetteroutside\", \"outdoorism\", \"getoutside\", \"gorpworld\"]',\n",
       " '[\"allconditionsclub\", \"\\\\ud835\\\\ude5c\\\\ud835\\\\ude64\\\\ud835\\\\ude67\\\\ud835\\\\ude65\\\\ud835\\\\ude6c\\\\ud835\\\\ude64\\\\ud835\\\\ude67\\\\ud835\\\\ude61\\\\ud835\\\\ude59\"]',\n",
       " 'https://www.instagram.com/p/CwLe9BQrW3T/',\n",
       " 42,\n",
       " 1349,\n",
       " 1080,\n",
       " 'https://instagram.fcgh9-1.fna.fbcdn.net/v/t51.2885-15/368460778_976346393419552_1470916733231789378_n.jpg?stp=dst-jpg_e35_p1080x1080&_nc_ht=instagram.fcgh9-1.fna.fbcdn.net&_nc_cat=104&_nc_ohc=kTEm2j4--PYAX-gjeVN&edm=AP_V10EBAAAA&ccb=7-5&oh=00_AfDMJZB0dR5UZ8VGR0y3xuwQLvhLTm_Fg7e6HO7pyH-CpA&oe=650BB1F2&_nc_sid=2999b8',\n",
       " '[\"https://instagram.fcgh9-1.fna.fbcdn.net/v/t51.2885-15/368460778_976346393419552_1470916733231789378_n.jpg?stp=dst-jpg_e35_p1080x1080&_nc_ht=instagram.fcgh9-1.fna.fbcdn.net&_nc_cat=104&_nc_ohc=kTEm2j4--PYAX-gjeVN&edm=AP_V10EBAAAA&ccb=7-5&oh=00_AfDMJZB0dR5UZ8VGR0y3xuwQLvhLTm_Fg7e6HO7pyH-CpA&oe=650BB1F2&_nc_sid=2999b8\", \"https://instagram.fcgh9-1.fna.fbcdn.net/v/t51.2885-15/368477640_284618404188090_3897516327026418523_n.jpg?stp=dst-jpg_e35_p1080x1080&_nc_ht=instagram.fcgh9-1.fna.fbcdn.net&_nc_cat=106&_nc_ohc=UJb2TRdPf_kAX-GC0dn&edm=AP_V10EBAAAA&ccb=7-5&oh=00_AfCI2xCDYTF6TsAH5Df4-SmPUhTH80b-9xSBiW6zFJVcLw&oe=650A7043&_nc_sid=2999b8\"]',\n",
       " 'default_alt',\n",
       " 17414,\n",
       " '2023-08-20T20:14:31.000Z',\n",
       " '56846806518')"
      ]
     },
     "execution_count": 64,
     "metadata": {},
     "output_type": "execute_result"
    }
   ],
   "source": [
    "best_post"
   ]
  },
  {
   "cell_type": "code",
   "execution_count": 11,
   "id": "4002e89b-f884-4617-b868-07aab8b7c16a",
   "metadata": {},
   "outputs": [],
   "source": [
    "# Define the column names in the same order as they appear in your db\n",
    "column_names = [\n",
    "    'id', 'type', 'shortCode', 'caption', 'hashtags', 'mentions', 'url', \n",
    "    'commentsCount', 'dimensionsHeight', 'dimensionsWidth', 'displayUrl', \n",
    "    'images', 'alt', 'likesCount', 'timestamp', 'ownerId'\n",
    "]\n",
    "\n",
    "# Convert the tuple to a dictionary for accessing \n",
    "best_post_dict = dict(zip(column_names, best_post))"
   ]
  },
  {
   "cell_type": "markdown",
   "id": "ca5e6e0a-eab0-41d1-815c-2763659adb4d",
   "metadata": {},
   "source": [
    "for the caption use a llm api to generate a new caption based on the previous post caption"
   ]
  },
  {
   "cell_type": "code",
   "execution_count": 12,
   "id": "e76ce911-d3e6-493e-83e3-3bbb9670f892",
   "metadata": {},
   "outputs": [],
   "source": [
    "# access dict index for caption\n",
    "caption = f\"{best_post_dict['caption']} \\n\\n {best_post_dict['hashtags']} \\n\\n 📸: @{best_post_dict['ownerId']}\""
   ]
  },
  {
   "cell_type": "code",
   "execution_count": 13,
   "id": "7f1dd8d4-0133-468a-99ee-a02d5688db47",
   "metadata": {},
   "outputs": [
    {
     "data": {
      "text/plain": [
       "'⅋ 🏷️\\n\\nVia. @allconditionsclub \\n\\n—————————————————-\\n𝘍𝘰𝘭𝘭𝘰𝘸 @𝙜𝙤𝙧𝙥𝙬𝙤𝙧𝙡𝙙 𝘧𝘰𝘳 𝘮𝘰𝘳𝘦 𝘤𝘰𝘯𝘵𝘦𝘯𝘵\\n.\\n.\\n.\\n.\\n.\\n.\\n.\\n.\\n#ootd #arctery× #outdoor #outdoors #explore #gorpcore #goretexstudio #hypebeast #grailed #fashionmoodboard #outdoorlife #hiking #itsbetteroutside #outdoorism #getoutside #gorpworld \\n\\n [\"ootd\", \"arctery\\\\u00d7\", \"outdoor\", \"outdoors\", \"explore\", \"gorpcore\", \"goretexstudio\", \"hypebeast\", \"grailed\", \"fashionmoodboard\", \"outdoorlife\", \"hiking\", \"itsbetteroutside\", \"outdoorism\", \"getoutside\", \"gorpworld\"] \\n\\n 📸: @56846806518'"
      ]
     },
     "execution_count": 13,
     "metadata": {},
     "output_type": "execute_result"
    }
   ],
   "source": [
    "caption"
   ]
  },
  {
   "cell_type": "code",
   "execution_count": 58,
   "id": "a2d29cdc-fedc-4dc7-802b-876707d27889",
   "metadata": {},
   "outputs": [],
   "source": [
    "img_url = best_post_dict['url']\n",
    "img = requests.get(img_url)\n",
    "\n",
    "# Save the image\n",
    "with open('best_image.jpg', 'wb') as f:\n",
    "    f.write(img.content)"
   ]
  },
  {
   "cell_type": "code",
   "execution_count": 59,
   "id": "4a8c9548-12b2-44e7-bfb0-2e7a5d6da882",
   "metadata": {},
   "outputs": [
    {
     "data": {
      "text/plain": [
       "'https://www.instagram.com/p/CwLe9BQrW3T/'"
      ]
     },
     "execution_count": 59,
     "metadata": {},
     "output_type": "execute_result"
    }
   ],
   "source": [
    "img_url"
   ]
  },
  {
   "cell_type": "code",
   "execution_count": 54,
   "id": "1c76ab06-4bf5-46a0-a601-2e2eb61d578a",
   "metadata": {},
   "outputs": [
    {
     "ename": "UnidentifiedImageError",
     "evalue": "cannot identify image file 'best_image.jpg'",
     "output_type": "error",
     "traceback": [
      "\u001b[1;31m---------------------------------------------------------------------------\u001b[0m",
      "\u001b[1;31mUnidentifiedImageError\u001b[0m                    Traceback (most recent call last)",
      "Cell \u001b[1;32mIn[54], line 18\u001b[0m\n\u001b[0;32m     15\u001b[0m     f\u001b[38;5;241m.\u001b[39mwrite(img\u001b[38;5;241m.\u001b[39mcontent)\n\u001b[0;32m     17\u001b[0m \u001b[38;5;66;03m# Resize the image\u001b[39;00m\n\u001b[1;32m---> 18\u001b[0m \u001b[43mresize_image\u001b[49m\u001b[43m(\u001b[49m\u001b[38;5;124;43m'\u001b[39;49m\u001b[38;5;124;43mbest_image.jpg\u001b[39;49m\u001b[38;5;124;43m'\u001b[39;49m\u001b[43m,\u001b[49m\u001b[43m \u001b[49m\u001b[38;5;124;43m'\u001b[39;49m\u001b[38;5;124;43mresized_best_image.jpg\u001b[39;49m\u001b[38;5;124;43m'\u001b[39;49m\u001b[43m)\u001b[49m\n",
      "Cell \u001b[1;32mIn[54], line 4\u001b[0m, in \u001b[0;36mresize_image\u001b[1;34m(input_path, output_path, base_width)\u001b[0m\n\u001b[0;32m      3\u001b[0m \u001b[38;5;28;01mdef\u001b[39;00m \u001b[38;5;21mresize_image\u001b[39m(input_path, output_path, base_width\u001b[38;5;241m=\u001b[39m\u001b[38;5;241m320\u001b[39m):\n\u001b[1;32m----> 4\u001b[0m     img \u001b[38;5;241m=\u001b[39m \u001b[43mImage\u001b[49m\u001b[38;5;241;43m.\u001b[39;49m\u001b[43mopen\u001b[49m\u001b[43m(\u001b[49m\u001b[43minput_path\u001b[49m\u001b[43m)\u001b[49m\n\u001b[0;32m      5\u001b[0m     w_percent \u001b[38;5;241m=\u001b[39m base_width \u001b[38;5;241m/\u001b[39m \u001b[38;5;28mfloat\u001b[39m(img\u001b[38;5;241m.\u001b[39msize[\u001b[38;5;241m0\u001b[39m])\n\u001b[0;32m      6\u001b[0m     h_size \u001b[38;5;241m=\u001b[39m \u001b[38;5;28mint\u001b[39m(\u001b[38;5;28mfloat\u001b[39m(img\u001b[38;5;241m.\u001b[39msize[\u001b[38;5;241m1\u001b[39m]) \u001b[38;5;241m*\u001b[39m \u001b[38;5;28mfloat\u001b[39m(w_percent))\n",
      "File \u001b[1;32m~\\AppData\\Local\\Programs\\Python\\Python311\\Lib\\site-packages\\PIL\\Image.py:3280\u001b[0m, in \u001b[0;36mopen\u001b[1;34m(fp, mode, formats)\u001b[0m\n\u001b[0;32m   3278\u001b[0m     warnings\u001b[38;5;241m.\u001b[39mwarn(message)\n\u001b[0;32m   3279\u001b[0m msg \u001b[38;5;241m=\u001b[39m \u001b[38;5;124m\"\u001b[39m\u001b[38;5;124mcannot identify image file \u001b[39m\u001b[38;5;132;01m%r\u001b[39;00m\u001b[38;5;124m\"\u001b[39m \u001b[38;5;241m%\u001b[39m (filename \u001b[38;5;28;01mif\u001b[39;00m filename \u001b[38;5;28;01melse\u001b[39;00m fp)\n\u001b[1;32m-> 3280\u001b[0m \u001b[38;5;28;01mraise\u001b[39;00m UnidentifiedImageError(msg)\n",
      "\u001b[1;31mUnidentifiedImageError\u001b[0m: cannot identify image file 'best_image.jpg'"
     ]
    }
   ],
   "source": [
    "from PIL import Image\n",
    "\n",
    "def resize_image(input_path, output_path, base_width=320):\n",
    "    img = Image.open(input_path)\n",
    "    w_percent = base_width / float(img.size[0])\n",
    "    h_size = int(float(img.size[1]) * float(w_percent))\n",
    "    img = img.resize((base_width, h_size), Image.ANTIALIAS)\n",
    "    img.save(output_path)\n",
    "\n",
    "img_url = best_post_dict['displayUrl']\n",
    "img = requests.get(img_url)\n",
    "\n",
    "# Save the image\n",
    "with open('best_image.jpg', 'wb') as f:\n",
    "    f.write(img.content)\n",
    "\n",
    "# Resize the image\n",
    "resize_image('best_image.jpg', 'resized_best_image.jpg')\n"
   ]
  },
  {
   "cell_type": "code",
   "execution_count": null,
   "id": "8658a660-0833-42e8-81e9-55d959fa7b13",
   "metadata": {},
   "outputs": [],
   "source": [
    "IGQWRPN2JyYkxTVU1YbF9mYnNJMXJOYjR2MzIxbHQxWnB0dm9QTXN3WXljaEhmNjllRG9wZA1ZAadkpwajVsNmplaWRHMjNVZAFdOdVBmTE1LZA2hYemsxczZAIa2hKajdaSmhTZAW4yVzFCN0ZAuOTVzMWV0RlFWdDhtQVEZD"
   ]
  },
  {
   "cell_type": "code",
   "execution_count": 35,
   "id": "6758a62a-874a-4fd9-9e2b-72b7ed5ec76b",
   "metadata": {},
   "outputs": [
    {
     "data": {
      "text/plain": [
       "True"
      ]
     },
     "execution_count": 35,
     "metadata": {},
     "output_type": "execute_result"
    }
   ],
   "source": [
    "import requests\n",
    "from instagrapi import Client\n",
    "from credentials import insta_user, insta_password\n",
    "# Initialize and login to the Instagram client\n",
    "cl = Client()\n",
    "cl.login(insta_user, insta_password)"
   ]
  },
  {
   "cell_type": "code",
   "execution_count": null,
   "id": "6cd1b767-ea40-447c-aaba-0e413faacf6d",
   "metadata": {},
   "outputs": [],
   "source": [
    "EAAPRAXRSsOQBO4euh8TPK0mXZA5iyAqVfRXBcR4xZBlmep5Lf3YXxY2zOCZC6M1kAUBTqSWq66ZAXmJu1q9DIC71PVfKHfEZAcbzfkxxV73Y39LBPKTPhTgaOkn9SJ62Rsuihq6EMvoPvaSZBOyjP5aClsYlmmwZBBWtxt38RA2S6kbmJ0f4PpfzWYOnq52EFdRqPWZArXvH1qf4YH0NTTBT9RrVCj5fxDyM7Mxmi1mAWBsveQZDZD"
   ]
  },
  {
   "cell_type": "code",
   "execution_count": null,
   "id": "9e6b8ab3-dc9a-41d8-b813-0120fe07f797",
   "metadata": {},
   "outputs": [],
   "source": [
    "IGQWRPRDV4RENJanl4MzBKUVByX2ZA4VEhVMUJlTTliQUhVS3Y5ak9mRXFiVVdvSERBNm5yM1F3ZAWsxcjktcl9KZAmFZAYnNDck5RZAG92eVJwUW14RXhNTVhLZA3VRZAXVaOXNHS1NLNFdDRmpKMkNaODlpUVNpRHdaUWMZD"
   ]
  },
  {
   "cell_type": "code",
   "execution_count": 50,
   "id": "c5cbdb7b-8a4c-4cc7-8f89-6519f3fb2e03",
   "metadata": {},
   "outputs": [
    {
     "name": "stdout",
     "output_type": "stream",
     "text": [
      "An error occurred while creating media container: 400 Client Error: Bad Request for url: https://graph.facebook.com/v10.0/2729451177194812/media\n"
     ]
    }
   ],
   "source": [
    "# import requests\n",
    "# import json\n",
    "\n",
    "# def post_to_facebook():\n",
    "#     app_id = \"1074229106880740\"\n",
    "#     app_secret = \"c00a0d1ecdb74381b23ee8dbeb84a318\"\n",
    "#     page_access_token = \"EAAPRAXRSsOQBO4euh8TPK0mXZA5iyAqVfRXBcR4xZBlmep5Lf3YXxY2zOCZC6M1kAUBTqSWq66ZAXmJu1q9DIC71PVfKHfEZAcbzfkxxV73Y39LBPKTPhTgaOkn9SJ62Rsuihq6EMvoPvaSZBOyjP5aClsYlmmwZBBWtxt38RA2S6kbmJ0f4PpfzWYOnq52EFdRqPWZArXvH1qf4YH0NTTBT9RrVCj5fxDyM7Mxmi1mAWBsveQZDZD\n",
    "    \n",
    "#     url = \"https://graph.facebook.com/v2.10/me/photos\"\n",
    "    \n",
    "#     data = {\n",
    "#         'message': 'My awesome photo upload example.',\n",
    "#         'link': 'http://www.example.com'\n",
    "#     }\n",
    "    \n",
    "#     files = {'source': ('Facebook-logo.png', open('Facebook-logo.png', 'rb'))}\n",
    "    \n",
    "#     params = {\n",
    "#         'access_token': page_access_token\n",
    "#     }\n",
    "    \n",
    "#     try:\n",
    "#         response = requests.post(url, data=data, params=params, files=files)\n",
    "#         response.raise_for_status()\n",
    "#     except requests.exceptions.RequestException as e:\n",
    "#         print(f\"An error occurred: {e}\")\n",
    "#         return\n",
    "    \n",
    "#     response_json = response.json()\n",
    "    \n",
    "#     if 'id' in response_json:\n",
    "#         print(f\"Posted with id: {response_json['id']}\")\n",
    "#     else:\n",
    "#         print(\"Failed to post.\")\n",
    "\n",
    "# if __name__ == \"__main__\":\n",
    "#     post_to_facebook()\n",
    "\n",
    "\n",
    "import requests\n",
    "import json\n",
    "\n",
    "def post_to_instagram():\n",
    "    user_id = \"2729451177194812\"\n",
    "    access_token = \"IGQWROTE1QUlRhTHFxbk1mMzdzRTZAhX3NFb2wwUlllWGxRSWpfRW9sa2Q4YWwxNHlVUEhBSFFiai1yUzYyMEMzcDVxMWhKUTNBZAkp2QjBXM3RuRThTSDdqRG12cUZAkRS13cE1oLW5qVThyS09RY3BRYUNYMVVfQmcZD\"\n",
    "    \n",
    "\n",
    "    # Step 1: Create a media container\n",
    "    media_url = \"https://graph.facebook.com/v10.0/{}/media\".format(user_id)\n",
    "    media_data = {\n",
    "        \"image_url\": img_url,  \n",
    "        \"caption\": \"My awesome photo upload example.\",\n",
    "        \"access_token\": access_token\n",
    "    }\n",
    "    \n",
    "    try:\n",
    "        media_response = requests.post(media_url, data=media_data)\n",
    "        media_response.raise_for_status()\n",
    "    except requests.exceptions.RequestException as e:\n",
    "        print(f\"An error occurred while creating media container: {e}\")\n",
    "        return\n",
    "    \n",
    "    media_json = media_response.json()\n",
    "    creation_id = media_json.get(\"id\")\n",
    "\n",
    "    # Step 2: Publish the media container\n",
    "    publish_url = \"https://graph.facebook.com/v10.0/{}/media_publish\".format(user_id)\n",
    "    publish_data = {\n",
    "        \"creation_id\": creation_id,\n",
    "        \"access_token\": access_token\n",
    "    }\n",
    "\n",
    "    try:\n",
    "        publish_response = requests.post(publish_url, data=publish_data)\n",
    "        publish_response.raise_for_status()\n",
    "    except requests.exceptions.RequestException as e:\n",
    "        print(f\"An error occurred while publishing: {e}\")\n",
    "        return\n",
    "\n",
    "    publish_json = publish_response.json()\n",
    "    \n",
    "    if 'id' in publish_json:\n",
    "        print(f\"Posted with id: {publish_json['id']}\")\n",
    "    else:\n",
    "        print(\"Failed to post.\")\n",
    "\n",
    "if __name__ == \"__main__\":\n",
    "    post_to_instagram()\n",
    "\n"
   ]
  },
  {
   "cell_type": "code",
   "execution_count": 28,
   "id": "c2b121e4-4fce-42e5-ac46-4f6542d66349",
   "metadata": {},
   "outputs": [
    {
     "name": "stdout",
     "output_type": "stream",
     "text": [
      "Failed to get a valid response. Status code: 400, Response: Sorry, this content isn't available right now\n"
     ]
    }
   ],
   "source": [
    "import requests\n",
    "import json\n",
    "\n",
    "access_token = \"IGQWRPN2JyYkxTVU1YbF9mYnNJMXJOYjR2MzIxbHQxWnB0dm9QTXN3WXljaEhmNjllRG9wZA1ZAadkpwajVsNmplaWRHMjNVZAFdOdVBmTE1LZA2hYemsxczZAIa2hKajdaSmhTZAW4yVzFCN0ZAuOTVzMWV0RlFWdDhtQVEZD\"\n",
    "image_url = img_url # Replace with your image URL\n",
    "caption = caption  # Replace with your caption\n",
    "\n",
    "# Construct the API URL\n",
    "api_url = f\"https://graph.instagram.com/me/media?image_url={image_url}&caption={caption}&access_token={access_token}\"\n",
    "\n",
    "# Make the API call\n",
    "response = requests.post(api_url)\n",
    "\n",
    "# Check the status code\n",
    "if response.status_code == 200:\n",
    "    try:\n",
    "        # Parse the response\n",
    "        response_json = json.loads(response.text)\n",
    "        if 'id' in response_json:\n",
    "            print(f\"Posted successfully: {response_json['id']}\")\n",
    "        else:\n",
    "            print(\"Failed to post\")\n",
    "    except json.JSONDecodeError:\n",
    "        print(\"Failed to decode JSON response\")\n",
    "else:\n",
    "    print(f\"Failed to get a valid response. Status code: {response.status_code}, Response: {response.text}\")\n"
   ]
  },
  {
   "cell_type": "code",
   "execution_count": 30,
   "id": "06c50142-58b3-4ae2-8bea-ea782d9bcc79",
   "metadata": {},
   "outputs": [
    {
     "name": "stderr",
     "output_type": "stream",
     "text": [
      "2023-09-24 18:52:22,179 - INFO - Instabot version: 0.117.0 Started\n",
      "2023-09-24 18:52:22,179 - INFO - Instabot version: 0.117.0 Started\n",
      "2023-09-24 18:52:22,179 - INFO - Instabot version: 0.117.0 Started\n",
      "2023-09-24 18:52:22,179 - INFO - Instabot version: 0.117.0 Started\n",
      "2023-09-24 18:52:22,179 - INFO - Instabot version: 0.117.0 Started\n",
      "2023-09-24 18:52:22,179 - INFO - Instabot version: 0.117.0 Started\n"
     ]
    },
    {
     "ename": "KeyError",
     "evalue": "'ds_user'",
     "output_type": "error",
     "traceback": [
      "\u001b[1;31m---------------------------------------------------------------------------\u001b[0m",
      "\u001b[1;31mKeyError\u001b[0m                                  Traceback (most recent call last)",
      "Cell \u001b[1;32mIn[30], line 4\u001b[0m\n\u001b[0;32m      1\u001b[0m \u001b[38;5;28;01mfrom\u001b[39;00m \u001b[38;5;21;01minstabot\u001b[39;00m \u001b[38;5;28;01mimport\u001b[39;00m Bot\n\u001b[0;32m      3\u001b[0m bot \u001b[38;5;241m=\u001b[39m Bot()\n\u001b[1;32m----> 4\u001b[0m \u001b[43mbot\u001b[49m\u001b[38;5;241;43m.\u001b[39;49m\u001b[43mlogin\u001b[49m\u001b[43m(\u001b[49m\u001b[43musername\u001b[49m\u001b[38;5;241;43m=\u001b[39;49m\u001b[38;5;124;43m'\u001b[39;49m\u001b[38;5;124;43mclave.xt\u001b[39;49m\u001b[38;5;124;43m'\u001b[39;49m\u001b[43m,\u001b[49m\u001b[43m \u001b[49m\u001b[43mpassword\u001b[49m\u001b[38;5;241;43m=\u001b[39;49m\u001b[38;5;124;43m'\u001b[39;49m\u001b[38;5;124;43mFuckhtmlrat\u001b[39;49m\u001b[38;5;124;43m'\u001b[39;49m\u001b[43m)\u001b[49m\n\u001b[0;32m      6\u001b[0m bot\u001b[38;5;241m.\u001b[39mupload_photo(\u001b[38;5;124m'\u001b[39m\u001b[38;5;124mbest_image.jpg\u001b[39m\u001b[38;5;124m'\u001b[39m, caption\u001b[38;5;241m=\u001b[39mcaption)\n",
      "File \u001b[1;32m~\\AppData\\Local\\Programs\\Python\\Python311\\Lib\\site-packages\\instabot\\bot\\bot.py:443\u001b[0m, in \u001b[0;36mBot.login\u001b[1;34m(self, **args)\u001b[0m\n\u001b[0;32m    441\u001b[0m \u001b[38;5;28;01mif\u001b[39;00m \u001b[38;5;28mself\u001b[39m\u001b[38;5;241m.\u001b[39mproxy:\n\u001b[0;32m    442\u001b[0m     args[\u001b[38;5;124m\"\u001b[39m\u001b[38;5;124mproxy\u001b[39m\u001b[38;5;124m\"\u001b[39m] \u001b[38;5;241m=\u001b[39m \u001b[38;5;28mself\u001b[39m\u001b[38;5;241m.\u001b[39mproxy\n\u001b[1;32m--> 443\u001b[0m \u001b[38;5;28;01mif\u001b[39;00m \u001b[38;5;28;43mself\u001b[39;49m\u001b[38;5;241;43m.\u001b[39;49m\u001b[43mapi\u001b[49m\u001b[38;5;241;43m.\u001b[39;49m\u001b[43mlogin\u001b[49m\u001b[43m(\u001b[49m\u001b[38;5;241;43m*\u001b[39;49m\u001b[38;5;241;43m*\u001b[39;49m\u001b[43margs\u001b[49m\u001b[43m)\u001b[49m \u001b[38;5;129;01mis\u001b[39;00m \u001b[38;5;28;01mFalse\u001b[39;00m:\n\u001b[0;32m    444\u001b[0m     \u001b[38;5;28;01mreturn\u001b[39;00m \u001b[38;5;28;01mFalse\u001b[39;00m\n\u001b[0;32m    445\u001b[0m \u001b[38;5;28mself\u001b[39m\u001b[38;5;241m.\u001b[39mprepare()\n",
      "File \u001b[1;32m~\\AppData\\Local\\Programs\\Python\\Python311\\Lib\\site-packages\\instabot\\api\\api.py:240\u001b[0m, in \u001b[0;36mAPI.login\u001b[1;34m(self, username, password, force, proxy, use_cookie, use_uuid, cookie_fname, ask_for_code, set_device, generate_all_uuids, is_threaded)\u001b[0m\n\u001b[0;32m    235\u001b[0m msg \u001b[38;5;241m=\u001b[39m \u001b[38;5;124m\"\u001b[39m\u001b[38;5;124mLogin flow failed, the cookie is broken. Relogin again.\u001b[39m\u001b[38;5;124m\"\u001b[39m\n\u001b[0;32m    237\u001b[0m \u001b[38;5;28;01mif\u001b[39;00m use_cookie \u001b[38;5;129;01mis\u001b[39;00m \u001b[38;5;28;01mTrue\u001b[39;00m:\n\u001b[0;32m    238\u001b[0m     \u001b[38;5;66;03m# try:\u001b[39;00m\n\u001b[0;32m    239\u001b[0m     \u001b[38;5;28;01mif\u001b[39;00m (\n\u001b[1;32m--> 240\u001b[0m         \u001b[38;5;28;43mself\u001b[39;49m\u001b[38;5;241;43m.\u001b[39;49m\u001b[43mload_uuid_and_cookie\u001b[49m\u001b[43m(\u001b[49m\u001b[43mload_cookie\u001b[49m\u001b[38;5;241;43m=\u001b[39;49m\u001b[43muse_cookie\u001b[49m\u001b[43m,\u001b[49m\u001b[43m \u001b[49m\u001b[43mload_uuid\u001b[49m\u001b[38;5;241;43m=\u001b[39;49m\u001b[43muse_uuid\u001b[49m\u001b[43m)\u001b[49m\n\u001b[0;32m    241\u001b[0m         \u001b[38;5;129;01mis\u001b[39;00m \u001b[38;5;28;01mTrue\u001b[39;00m\n\u001b[0;32m    242\u001b[0m     ):\n\u001b[0;32m    243\u001b[0m         \u001b[38;5;66;03m# Check if the token loaded is valid.\u001b[39;00m\n\u001b[0;32m    244\u001b[0m         \u001b[38;5;28;01mif\u001b[39;00m \u001b[38;5;28mself\u001b[39m\u001b[38;5;241m.\u001b[39mlogin_flow(\u001b[38;5;28;01mFalse\u001b[39;00m) \u001b[38;5;129;01mis\u001b[39;00m \u001b[38;5;28;01mTrue\u001b[39;00m:\n\u001b[0;32m    245\u001b[0m             cookie_is_loaded \u001b[38;5;241m=\u001b[39m \u001b[38;5;28;01mTrue\u001b[39;00m\n",
      "File \u001b[1;32m~\\AppData\\Local\\Programs\\Python\\Python311\\Lib\\site-packages\\instabot\\api\\api.py:199\u001b[0m, in \u001b[0;36mAPI.load_uuid_and_cookie\u001b[1;34m(self, load_uuid, load_cookie)\u001b[0m\n\u001b[0;32m    198\u001b[0m \u001b[38;5;28;01mdef\u001b[39;00m \u001b[38;5;21mload_uuid_and_cookie\u001b[39m(\u001b[38;5;28mself\u001b[39m, load_uuid\u001b[38;5;241m=\u001b[39m\u001b[38;5;28;01mTrue\u001b[39;00m, load_cookie\u001b[38;5;241m=\u001b[39m\u001b[38;5;28;01mTrue\u001b[39;00m):\n\u001b[1;32m--> 199\u001b[0m     \u001b[38;5;28;01mreturn\u001b[39;00m \u001b[43mload_uuid_and_cookie\u001b[49m\u001b[43m(\u001b[49m\u001b[38;5;28;43mself\u001b[39;49m\u001b[43m,\u001b[49m\u001b[43m \u001b[49m\u001b[43mload_uuid\u001b[49m\u001b[38;5;241;43m=\u001b[39;49m\u001b[43mload_uuid\u001b[49m\u001b[43m,\u001b[49m\u001b[43m \u001b[49m\u001b[43mload_cookie\u001b[49m\u001b[38;5;241;43m=\u001b[39;49m\u001b[43mload_cookie\u001b[49m\u001b[43m)\u001b[49m\n",
      "File \u001b[1;32m~\\AppData\\Local\\Programs\\Python\\Python311\\Lib\\site-packages\\instabot\\api\\api_login.py:352\u001b[0m, in \u001b[0;36mload_uuid_and_cookie\u001b[1;34m(self, load_uuid, load_cookie)\u001b[0m\n\u001b[0;32m    348\u001b[0m \u001b[38;5;28mself\u001b[39m\u001b[38;5;241m.\u001b[39mlogger\u001b[38;5;241m.\u001b[39mdebug(\u001b[38;5;124m\"\u001b[39m\u001b[38;5;124mLoading cookies\u001b[39m\u001b[38;5;124m\"\u001b[39m)\n\u001b[0;32m    349\u001b[0m \u001b[38;5;28mself\u001b[39m\u001b[38;5;241m.\u001b[39msession\u001b[38;5;241m.\u001b[39mcookies \u001b[38;5;241m=\u001b[39m requests\u001b[38;5;241m.\u001b[39mutils\u001b[38;5;241m.\u001b[39mcookiejar_from_dict(\n\u001b[0;32m    350\u001b[0m     data[\u001b[38;5;124m\"\u001b[39m\u001b[38;5;124mcookie\u001b[39m\u001b[38;5;124m\"\u001b[39m]\n\u001b[0;32m    351\u001b[0m )\n\u001b[1;32m--> 352\u001b[0m cookie_username \u001b[38;5;241m=\u001b[39m \u001b[38;5;28;43mself\u001b[39;49m\u001b[38;5;241;43m.\u001b[39;49m\u001b[43mcookie_dict\u001b[49m\u001b[43m[\u001b[49m\u001b[38;5;124;43m\"\u001b[39;49m\u001b[38;5;124;43mds_user\u001b[39;49m\u001b[38;5;124;43m\"\u001b[39;49m\u001b[43m]\u001b[49m\n\u001b[0;32m    353\u001b[0m \u001b[38;5;28;01massert\u001b[39;00m cookie_username \u001b[38;5;241m==\u001b[39m \u001b[38;5;28mself\u001b[39m\u001b[38;5;241m.\u001b[39musername\u001b[38;5;241m.\u001b[39mlower()\n\u001b[0;32m    354\u001b[0m \u001b[38;5;28mself\u001b[39m\u001b[38;5;241m.\u001b[39mcookie_dict[\u001b[38;5;124m\"\u001b[39m\u001b[38;5;124murlgen\u001b[39m\u001b[38;5;124m\"\u001b[39m]\n",
      "\u001b[1;31mKeyError\u001b[0m: 'ds_user'"
     ]
    }
   ],
   "source": [
    "from instabot import Bot\n",
    "\n",
    "bot = Bot()\n",
    "bot.login(username='clave.xt', password='Fuckhtmlrat')\n",
    "\n",
    "bot.upload_photo('best_image.jpg', caption=caption)\n",
    "\n"
   ]
  },
  {
   "cell_type": "code",
   "execution_count": null,
   "id": "b48d3786-49d3-475c-86b3-88ea82888ead",
   "metadata": {},
   "outputs": [],
   "source": []
  }
 ],
 "metadata": {
  "kernelspec": {
   "display_name": "Python 3 (ipykernel)",
   "language": "python",
   "name": "python3"
  },
  "language_info": {
   "codemirror_mode": {
    "name": "ipython",
    "version": 3
   },
   "file_extension": ".py",
   "mimetype": "text/x-python",
   "name": "python",
   "nbconvert_exporter": "python",
   "pygments_lexer": "ipython3",
   "version": "3.11.5"
  }
 },
 "nbformat": 4,
 "nbformat_minor": 5
}
