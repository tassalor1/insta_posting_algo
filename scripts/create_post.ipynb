{
 "cells": [
  {
   "cell_type": "markdown",
   "id": "12ea9d50-53ef-4992-ba4c-9b86f8f6be36",
   "metadata": {},
   "source": [
    "this output should be what the model gives mein terms of the best to post - but for now just use any"
   ]
  },
  {
   "cell_type": "code",
   "execution_count": 6,
   "id": "09e1df10-ba8b-4326-9b71-5afdca4da6c2",
   "metadata": {},
   "outputs": [],
   "source": [
    "import json\n",
    "import pandas as pd\n",
    "import sqlite3\n",
    "import json\n",
    "import logging\n",
    "import requests\n",
    "from credentials import insta_user, insta_password"
   ]
  },
  {
   "cell_type": "code",
   "execution_count": 3,
   "id": "11afb0bd-ca25-4e56-9d79-8cc8d84dd6de",
   "metadata": {},
   "outputs": [],
   "source": [
    "conn = sqlite3.connect(\"D:\\coding\\instagram\\dbs\\insta_hashtag_data1.db\")\n",
    "cur = conn.cursor()"
   ]
  },
  {
   "cell_type": "code",
   "execution_count": 4,
   "id": "01723dc0-f027-4774-90ac-e921abb22d39",
   "metadata": {},
   "outputs": [],
   "source": [
    "query = \"SELECT * FROM insta_hashtag_data1 ORDER BY likesCount DESC LIMIT 1\""
   ]
  },
  {
   "cell_type": "code",
   "execution_count": 5,
   "id": "83d396ff-80ec-4537-ac1c-11bc2063fc49",
   "metadata": {},
   "outputs": [],
   "source": [
    "cur.execute(query)\n",
    "best_post = cur.fetchone()"
   ]
  },
  {
   "cell_type": "markdown",
   "id": "ca5e6e0a-eab0-41d1-815c-2763659adb4d",
   "metadata": {},
   "source": [
    "for the caption use a llm api to generate a new caption based on the previous post caption"
   ]
  },
  {
   "cell_type": "code",
   "execution_count": null,
   "id": "e76ce911-d3e6-493e-83e3-3bbb9670f892",
   "metadata": {},
   "outputs": [],
   "source": [
    "caption = f\"{best_post['caption']} \\n\\n {best_post['hashtags']} \\n\\n 📸: @{best_post['ownerId']}\""
   ]
  },
  {
   "cell_type": "code",
   "execution_count": null,
   "id": "a2d29cdc-fedc-4dc7-802b-876707d27889",
   "metadata": {},
   "outputs": [],
   "source": [
    "img_url = best_post['displayUrl']\n",
    "img = requests.get(img_url)\n",
    "\n",
    "with open('best_image.jpg', 'wb') as f:\n",
    "    f.write(img.content)"
   ]
  },
  {
   "cell_type": "code",
   "execution_count": null,
   "id": "06c50142-58b3-4ae2-8bea-ea782d9bcc79",
   "metadata": {},
   "outputs": [],
   "source": [
    "from instabot import Bot\n",
    "\n",
    "bot = Bot()\n",
    "bot.login(username=insta_user, password=insta_password)\n",
    "\n",
    "bot.upload_photo('best_image.jpg', caption=caption)"
   ]
  }
 ],
 "metadata": {
  "kernelspec": {
   "display_name": "Python 3 (ipykernel)",
   "language": "python",
   "name": "python3"
  },
  "language_info": {
   "codemirror_mode": {
    "name": "ipython",
    "version": 3
   },
   "file_extension": ".py",
   "mimetype": "text/x-python",
   "name": "python",
   "nbconvert_exporter": "python",
   "pygments_lexer": "ipython3",
   "version": "3.11.5"
  }
 },
 "nbformat": 4,
 "nbformat_minor": 5
}
