{
 "cells": [
  {
   "cell_type": "code",
   "execution_count": null,
   "id": "6a92e845-bbed-4a68-ba31-d079a2f02098",
   "metadata": {},
   "outputs": [],
   "source": [
    "import sqlite3"
   ]
  },
  {
   "cell_type": "code",
   "execution_count": 7,
   "id": "f2d61034-7fdc-4d47-a580-25db5138e952",
   "metadata": {},
   "outputs": [
    {
     "name": "stdout",
     "output_type": "stream",
     "text": [
      "Tables in the database: [('insta_hashtag',)]\n"
     ]
    }
   ],
   "source": [
    "conn = sqlite3.connect(\"D:\\coding\\instagram\\scripts\\insta_hashtag.db\")\n",
    "cur = conn.cursor()\n",
    "\n",
    "cur.execute(\"SELECT name FROM sqlite_master WHERE type='table';\")\n",
    "tables = cur.fetchall()\n",
    "print(\"Tables in the database:\", tables)"
   ]
  },
  {
   "cell_type": "code",
   "execution_count": 8,
   "id": "92974ef0-6b6b-4e57-81e5-95f3c4516583",
   "metadata": {},
   "outputs": [
    {
     "name": "stdout",
     "output_type": "stream",
     "text": [
      "Database summary: 3199045204248696089 rows in total.\n"
     ]
    }
   ],
   "source": [
    "cur.execute(\"SELECT * FROM insta_hashtag;\")\n",
    "\n",
    "total_rows = cur.fetchone()[0]\n",
    "\n",
    "print(f'Database summary: {total_rows} rows in total.')"
   ]
  },
  {
   "cell_type": "code",
   "execution_count": null,
   "id": "9b37fd2f-1c27-49a1-83b8-44892050fe12",
   "metadata": {},
   "outputs": [],
   "source": [
    "cur.close()\n",
    "conn.close()"
   ]
  }
 ],
 "metadata": {
  "kernelspec": {
   "display_name": "Python 3 (ipykernel)",
   "language": "python",
   "name": "python3"
  },
  "language_info": {
   "codemirror_mode": {
    "name": "ipython",
    "version": 3
   },
   "file_extension": ".py",
   "mimetype": "text/x-python",
   "name": "python",
   "nbconvert_exporter": "python",
   "pygments_lexer": "ipython3",
   "version": "3.11.5"
  }
 },
 "nbformat": 4,
 "nbformat_minor": 5
}
