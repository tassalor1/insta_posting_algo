{
 "cells": [
  {
   "cell_type": "code",
   "execution_count": 9,
   "id": "38ef2748-d61d-4a53-9cd3-16f558787dac",
   "metadata": {},
   "outputs": [],
   "source": [
    "import os\n",
    "import sqlite3\n",
    "import logging\n",
    "from google.oauth2.service_account import Credentials\n",
    "from googleapiclient.discovery import build\n",
    "from googleapiclient.http import MediaFileUpload\n",
    "import requests"
   ]
  },
  {
   "cell_type": "code",
   "execution_count": 7,
   "id": "7430692d-7788-4962-8904-f17bc046e7f7",
   "metadata": {},
   "outputs": [
    {
     "name": "stdout",
     "output_type": "stream",
     "text": [
      "Public URL: https://drive.google.com/uc?export=view&id=1lcCUfowNnOCoR_ESI7__qCGRRyxA4vsW has been created\n"
     ]
    }
   ],
   "source": [
    "google_json = \"D:/coding/instagram/scripts/private/insta-401020-8a55316147d7.json\"\n",
    "img_path = \"D:/coding/instagram/scripts/downloaded_images/image_0.jpg\"\n",
    "\n",
    "credentials = Credentials.from_service_account_file(\n",
    "    google_json,\n",
    "    scopes=['https://www.googleapis.com/auth/drive']\n",
    ")\n",
    "drive_service = build('drive', 'v3', credentials=credentials)\n",
    "\n",
    "file_metadata = {'name': os.path.basename(img_path)}\n",
    "media = MediaFileUpload(img_path, mimetype='image/jpeg')\n",
    "file = drive_service.files().create(body=file_metadata, media_body=media, fields='id').execute()\n",
    "\n",
    "file_id = file.get('id')\n",
    "\n",
    "# make the file publicly accessible and retrieve sharing link\n",
    "file_id = file.get('id')\n",
    "drive_service.permissions().create(\n",
    "    fileId=file_id,\n",
    "    body={'type': 'anyone', 'role': 'reader'},\n",
    "    fields='id'\n",
    ").execute()\n",
    "public_url = f\"https://drive.google.com/uc?export=view&id={file_id}\"\n",
    "\n",
    "print(f\"Public URL: {public_url} has been created\")"
   ]
  },
  {
   "cell_type": "code",
   "execution_count": 11,
   "id": "64757509-151b-4e19-ac43-24d29c83981f",
   "metadata": {},
   "outputs": [
    {
     "name": "stdout",
     "output_type": "stream",
     "text": [
      "{'id': '18239874154229539'}\n",
      "post has been created: https://graph.facebook.com/v18.0/17841461285196685/media_publish?creation_id=18239874154229539&access_token=EAAPRAXRSsOQBOZB22Mf0mrWwvB0MIJlH2qMVWKWe62A3DqRVw5kcvqhtlSvn7hTepFZCGevAyZC0FmaTJI1i34E16h9u5haXnsA6VedCVivLGrQFyX6Kp4wGga1iNL7h8daHrcPedIctk5l3PeUXfqKiNtOQYBzeKw1ft2ZA5cE7q1y68LCFW2hPHW5rZBFS33KcoWNqdWtqu6tyotL71rJ3Rm3pXptbOCIXIO5Tk9UYZD\n"
     ]
    }
   ],
   "source": [
    "\n",
    "insta_token = 'EAAPRAXRSsOQBOZB22Mf0mrWwvB0MIJlH2qMVWKWe62A3DqRVw5kcvqhtlSvn7hTepFZCGevAyZC0FmaTJI1i34E16h9u5haXnsA6VedCVivLGrQFyX6Kp4wGga1iNL7h8daHrcPedIctk5l3PeUXfqKiNtOQYBzeKw1ft2ZA5cE7q1y68LCFW2hPHW5rZBFS33KcoWNqdWtqu6tyotL71rJ3Rm3pXptbOCIXIO5Tk9UYZD'\n",
    "insta_user_id = '17841461285196685'\n",
    "url = f\"https://graph.facebook.com/v18.0/17841461285196685/media\"\n",
    "# create container\n",
    "params = {\n",
    "    'image_url': public_url,\n",
    "    'caption': 'e',\n",
    "    'access_token': insta_token\n",
    "}\n",
    "\n",
    "response = requests.post(url, params=params)\n",
    "print(response.json())\n",
    "# grabs media object id\n",
    "container_id = response.json().get('id', 'ID not found')\n",
    "#publish pic\n",
    "publish_url = f\"https://graph.facebook.com/v18.0/{insta_user_id}/media_publish?creation_id={container_id}&access_token={insta_token}\"\n",
    "\n",
    "response = requests.post(publish_url)\n",
    "\n",
    "print(f'post has been created: {publish_url}')\n",
    "\n",
    "\n",
    "\n"
   ]
  },
  {
   "cell_type": "code",
   "execution_count": 13,
   "id": "89a98265-3794-4c1e-ac0e-9464a6f7cee3",
   "metadata": {},
   "outputs": [
    {
     "name": "stdout",
     "output_type": "stream",
     "text": [
      "get_top_post function running\n",
      "db connected\n"
     ]
    },
    {
     "ename": "ProgrammingError",
     "evalue": "Incorrect number of bindings supplied. The current statement uses 1, and there are 19 supplied.",
     "output_type": "error",
     "traceback": [
      "\u001b[1;31m---------------------------------------------------------------------------\u001b[0m",
      "\u001b[1;31mProgrammingError\u001b[0m                          Traceback (most recent call last)",
      "Cell \u001b[1;32mIn[13], line 182\u001b[0m\n\u001b[0;32m    180\u001b[0m post \u001b[38;5;241m=\u001b[39m PostImg(\u001b[38;5;241m*\u001b[39m\u001b[38;5;241m*\u001b[39mconfig)\n\u001b[0;32m    181\u001b[0m post\u001b[38;5;241m.\u001b[39mget_posted_posts()\n\u001b[1;32m--> 182\u001b[0m \u001b[43mpost\u001b[49m\u001b[38;5;241;43m.\u001b[39;49m\u001b[43mget_top_post\u001b[49m\u001b[43m(\u001b[49m\u001b[43m)\u001b[49m\n\u001b[0;32m    183\u001b[0m post\u001b[38;5;241m.\u001b[39mget_img()\n\u001b[0;32m    184\u001b[0m post\u001b[38;5;241m.\u001b[39mgoogle_drive()\n",
      "Cell \u001b[1;32mIn[13], line 56\u001b[0m, in \u001b[0;36mPostImg.get_top_post\u001b[1;34m(self)\u001b[0m\n\u001b[0;32m     53\u001b[0m         \u001b[38;5;28;01mbreak\u001b[39;00m  \n\u001b[0;32m     55\u001b[0m     \u001b[38;5;66;03m# If image doesn't exist, fetch next row with lesser likesCount\u001b[39;00m\n\u001b[1;32m---> 56\u001b[0m     \u001b[43mcur\u001b[49m\u001b[38;5;241;43m.\u001b[39;49m\u001b[43mexecute\u001b[49m\u001b[43m(\u001b[49m\u001b[38;5;124;43m\"\u001b[39;49m\u001b[38;5;124;43mSELECT MAX(likesCount), id, hashtags, ownerId FROM insta_hashtag WHERE likesCount < ?\u001b[39;49m\u001b[38;5;124;43m\"\u001b[39;49m\u001b[43m,\u001b[49m\u001b[43m \u001b[49m\u001b[43m(\u001b[49m\u001b[38;5;28;43mself\u001b[39;49m\u001b[38;5;241;43m.\u001b[39;49m\u001b[43mpost_id\u001b[49m\u001b[43m)\u001b[49m\u001b[43m)\u001b[49m\n\u001b[0;32m     57\u001b[0m     row \u001b[38;5;241m=\u001b[39m cur\u001b[38;5;241m.\u001b[39mfetchone()\n\u001b[0;32m     59\u001b[0m \u001b[38;5;28;01mif\u001b[39;00m row \u001b[38;5;129;01mis\u001b[39;00m \u001b[38;5;28;01mNone\u001b[39;00m:\n",
      "\u001b[1;31mProgrammingError\u001b[0m: Incorrect number of bindings supplied. The current statement uses 1, and there are 19 supplied."
     ]
    }
   ],
   "source": [
    "class PostImg:\n",
    "\n",
    "    @staticmethod\n",
    "    def setup_logging():\n",
    "        logging.basicConfig(filename='post_operations.log', level=logging.INFO)\n",
    "\n",
    "    def __init__(self, google_json, insta_access_token, insta_user_id, default_hashtags, db_path):\n",
    "        self.google_json = google_json\n",
    "        self.insta_access_token = insta_access_token\n",
    "        self.insta_user_id = insta_user_id\n",
    "        self.default_hashtags = default_hashtags\n",
    "        self.db_path = db_path\n",
    "        self.ids = []\n",
    "        self.top_post = None\n",
    "        self.owner_id = None\n",
    "        self.hashtags = None\n",
    "        self.public_url = ()\n",
    "        self.owner_username = ()\n",
    "\n",
    "\n",
    "    def connect_db(self):\n",
    "        try:\n",
    "            conn = sqlite3.connect(self.db_path)\n",
    "            print('db connected')\n",
    "            return conn\n",
    "        except sqlite3.Error as e:\n",
    "            logging.error(f\"db error: {e}\")\n",
    "            return None    \n",
    "        \n",
    "    def get_posted_posts(self):\n",
    "        ## get ids that have been posted to cross reference\n",
    "        try:\n",
    "            with open('posted_ids', 'r') as f:\n",
    "                self.ids = [line.strip() for line in f]\n",
    "        except FileNotFoundError:\n",
    "            logging.warning(\"posted_ids file not found\")\n",
    "\n",
    "    def get_top_post(self):\n",
    "        print('get_top_post function running')\n",
    "        conn = self.connect_db()\n",
    "        if conn:\n",
    "            cur = conn.cursor()\n",
    "            cur.execute(\"SELECT MAX(likesCount), id, hashtags, ownerId FROM insta_hashtag\")\n",
    "            row = cur.fetchone()\n",
    "            #loop till post has matching downlaoded img\n",
    "            \n",
    "            while row:\n",
    "                self.top_post, self.post_id, self.hashtags, self.owner_id = row\n",
    "                \n",
    "                img_path = os.path.join('downloaded_images', f'image_{self.post_id}.jpg')\n",
    "                \n",
    "                if os.path.exists(img_path):\n",
    "                    break  \n",
    "            \n",
    "                # If image doesn't exist, fetch next row with lesser likesCount\n",
    "                cur.execute(\"SELECT MAX(likesCount), id, hashtags, ownerId FROM insta_hashtag WHERE likesCount < ?\", (self.post_id))\n",
    "                row = cur.fetchone()\n",
    "               \n",
    "            if row is None:\n",
    "                print(\"No more rows to fetch.\")\n",
    "                logging.info('No more rows to fetch')\n",
    "\n",
    "\n",
    "    def get_img(self):\n",
    "        self.img_path = os.path.join('downloaded_images', f'image_{self.post_id}.jpg')\n",
    "        \n",
    "        if os.path.exists(self.img_path):\n",
    "            logging.info('Matching image fetched')\n",
    "            print('Matching image fetched')\n",
    "        else:\n",
    "            logging.warning('Image not found')\n",
    "            print('Image not found')\n",
    " \n",
    "\n",
    "\n",
    "    def google_drive(self):\n",
    "        try:\n",
    "            credentials = Credentials.from_service_account_file(\n",
    "                self.google_json,\n",
    "                scopes=['https://www.googleapis.com/auth/drive']\n",
    "            )\n",
    "            drive_service = build('drive', 'v3', credentials=credentials)\n",
    "\n",
    "            file_metadata = {'name': os.path.basename(self.img_path)}\n",
    "            media = MediaFileUpload(self.img_path, mimetype='image/jpeg')\n",
    "            file = drive_service.files().create(body=file_metadata, media_body=media, fields='id').execute()\n",
    "\n",
    "            file_id = file.get('id')\n",
    "\n",
    "            # make the file publicly accessible and retrieve sharing link\n",
    "            file_id = file.get('id')\n",
    "            drive_service.permissions().create(\n",
    "                fileId=file_id,\n",
    "                body={'type': 'anyone', 'role': 'reader'},\n",
    "                fields='id'\n",
    "            ).execute()\n",
    "            self.public_url = f\"https://drive.google.com/uc?export=view&id={file_id}\"\n",
    "\n",
    "            logging.info(f\"Public URL: {self.public_url} has been created\")\n",
    "            print(f\"Public URL: {self.public_url} has been created\")\n",
    "\n",
    "        except Exception as e:\n",
    "            logging.error(f\"Google Drive error: {e}\")\n",
    "\n",
    "\n",
    "    def get_owner_username(self):\n",
    "        #get username of the author\n",
    "        try:\n",
    "            owner_url = f\"https://graph.instagram.com/{self.owner_id}?fields=username&access_token={self.insta_access_token}\"\n",
    "            owner_response = requests.get(owner_url)\n",
    "            owner_data = owner_response.json()\n",
    "            self.owner_username = owner_data.get('username', 'Username not found')\n",
    "            logging.info(f'Owner username acquired: {self.owner_username}')\n",
    "            print(f'Owner username acquired: {self.owner_username}')\n",
    "\n",
    "        except requests.RequestException as e:\n",
    "            logging.error(f\"Request error: {e}\")\n",
    "\n",
    "    def generate_caption(self):\n",
    "        #get hashtags from post or if none default\n",
    "        if self.hashtags == None:\n",
    "            self.hashtags == self.default_hashtags\n",
    "            print('post has no hastags')\n",
    "        \n",
    "        self.caption = f'''⅋ 🪡\n",
    "\n",
    "                        Via. {self.owner_username}\n",
    "\n",
    "                        —————————————————-\n",
    "                        𝘍𝘰𝘭𝘭𝘰𝘸 @clavext 𝘧𝘰𝘳 𝘮𝘰𝘳𝘦 𝘤𝘰𝘯𝘵𝘦𝘯𝘵\n",
    "                        .\n",
    "                        .\n",
    "                        .\n",
    "                        .\n",
    "                        .\n",
    "                        .\n",
    "                        .\n",
    "                        .\n",
    "                        {self.hashtags}'''\n",
    "        \n",
    "\n",
    "    def insta_api_post(self):\n",
    "        url = f\"https://graph.facebook.com/v18.0/{self.insta_user_id}/media\"\n",
    "        # create container\n",
    "        params = {\n",
    "            'image_url': self.public_url,\n",
    "            'caption': self.caption,\n",
    "            'access_token': self.insta_access_token\n",
    "        }\n",
    "        try:\n",
    "            response = requests.post(url, params=params)\n",
    "            print(response.json())\n",
    "            # grabs media object id\n",
    "            container_id = response.json().get('id', 'ID not found')\n",
    "            #publish pic\n",
    "            publish_url = f\"https://graph.facebook.com/v18.0/{self.insta_user_id}/media_publish?creation_id={container_id}&access_token={self.insta_access_token}\"\n",
    "\n",
    "            response = requests.post(publish_url)\n",
    "            logging.info(response.json())\n",
    "            print(f'post has been created: {publish_url}')\n",
    "            # create a file that add posted ids into it\n",
    "            with open('posted_ids', 'a') as f:\n",
    "                f.write(str(self.top_post) + '\\n')\n",
    "\n",
    "        except requests.RequestException as e:\n",
    "            logging.error(f\"Request error: {e}\")\n",
    "\n",
    " \n",
    "config = {\n",
    "    \"google_json\": \"D:/coding/instagram/scripts/private/insta-401020-8a55316147d7.json\",\n",
    "    \"insta_access_token\": 'EAAPRAXRSsOQBOZB22Mf0mrWwvB0MIJlH2qMVWKWe62A3DqRVw5kcvqhtlSvn7hTepFZCGevAyZC0FmaTJI1i34E16h9u5haXnsA6VedCVivLGrQFyX6Kp4wGga1iNL7h8daHrcPedIctk5l3PeUXfqKiNtOQYBzeKw1ft2ZA5cE7q1y68LCFW2hPHW5rZBFS33KcoWNqdWtqu6tyotL71rJ3Rm3pXptbOCIXIO5Tk9UYZD',\n",
    "    \"insta_user_id\": '17841461285196685',\n",
    "    \"default_hashtags\": [\"gorpcore\",\"outerwear\", \"gorp\", \"gorpcorefashion\", \"outdoors\", \n",
    "                         \"arcteryx\", \"salomon\", \"gorpcorefashion\", \"gorpcorestyle\", \"functionalarchive\", \n",
    "                         \"ootd\", \"explore\", \"getoutside\"],\n",
    "    \"db_path\": \"D:/coding/instagram/scripts/insta_hashtag.db\"\n",
    "}\n",
    "if __name__ == \"__main__\":\n",
    "    PostImg.setup_logging()\n",
    "    post = PostImg(**config)\n",
    "    post.get_posted_posts()\n",
    "    post.get_top_post()\n",
    "    post.get_img()\n",
    "    post.google_drive()\n",
    "    post.get_owner_username()\n",
    "    # post.generate_caption()\n",
    "    # post.insta_api_post()\n",
    "    "
   ]
  },
  {
   "cell_type": "code",
   "execution_count": 15,
   "id": "5e5c6ae5-f548-44bc-a34c-c79cb04b090b",
   "metadata": {},
   "outputs": [
    {
     "name": "stdout",
     "output_type": "stream",
     "text": [
      "An error occurred: 400 Client Error: Bad Request for url: https://graph.instagram.com/38758293043?fields=username&access_token=EAAPRAXRSsOQBOZB22Mf0mrWwvB0MIJlH2qMVWKWe62A3DqRVw5kcvqhtlSvn7hTepFZCGevAyZC0FmaTJI1i34E16h9u5haXnsA6VedCVivLGrQFyX6Kp4wGga1iNL7h8daHrcPedIctk5l3PeUXfqKiNtOQYBzeKw1ft2ZA5cE7q1y68LCFW2hPHW5rZBFS33KcoWNqdWtqu6tyotL71rJ3Rm3pXptbOCIXIO5Tk9UYZD\n"
     ]
    }
   ],
   "source": [
    "try:\n",
    "    owner_id = '38758293043'\n",
    "    insta_token\n",
    "    owner_url = f\"https://graph.instagram.com/{owner_id}?fields=username&access_token={insta_token}\"\n",
    "    owner_response = requests.get(owner_url)\n",
    "    owner_response.raise_for_status()\n",
    "    owner_data = owner_response.json()\n",
    "    owner_username = owner_data.get('username', 'Username not found')\n",
    "    print(f'Owner username acquired: {owner_username}')\n",
    "except requests.exceptions.RequestException as e:\n",
    "    print(f\"An error occurred: {e}\")\n",
    "except Exception as e:\n",
    "    print(f\"An unexpected error occurred: {e}\")\n"
   ]
  },
  {
   "cell_type": "code",
   "execution_count": 28,
   "id": "506c7be6-4559-4160-9c74-24afeffc8aee",
   "metadata": {},
   "outputs": [
    {
     "name": "stdout",
     "output_type": "stream",
     "text": [
      "An error occurred: 400 Client Error: Bad Request for url: https://graph.instagram.com/3082218057618335681?fields=username&access_token=EAAPRAXRSsOQBOZB22Mf0mrWwvB0MIJlH2qMVWKWe62A3DqRVw5kcvqhtlSvn7hTepFZCGevAyZC0FmaTJI1i34E16h9u5haXnsA6VedCVivLGrQFyX6Kp4wGga1iNL7h8daHrcPedIctk5l3PeUXfqKiNtOQYBzeKw1ft2ZA5cE7q1y68LCFW2hPHW5rZBFS33KcoWNqdWtqu6tyotL71rJ3Rm3pXptbOCIXIO5Tk9UYZD\n"
     ]
    }
   ],
   "source": [
    "import requests\n",
    "\n",
    "try:\n",
    "    insta_token = 'EAAPRAXRSsOQBOZB22Mf0mrWwvB0MIJlH2qMVWKWe62A3DqRVw5kcvqhtlSvn7hTepFZCGevAyZC0FmaTJI1i34E16h9u5haXnsA6VedCVivLGrQFyX6Kp4wGga1iNL7h8daHrcPedIctk5l3PeUXfqKiNtOQYBzeKw1ft2ZA5cE7q1y68LCFW2hPHW5rZBFS33KcoWNqdWtqu6tyotL71rJ3Rm3pXptbOCIXIO5Tk9UYZD'\n",
    "    owner_id = '3082218057618335681'\n",
    "    owner_url = f\"https://graph.instagram.com/{owner_id}?fields=username&access_token={insta_token}\"\n",
    "    owner_response = requests.get(owner_url)\n",
    "    owner_response.raise_for_status()\n",
    "    owner_data = owner_response.json()\n",
    "    owner_username = owner_data.get('username', 'Username not found')\n",
    "    print(f'Owner username acquired: {owner_username}')\n",
    "except requests.exceptions.RequestException as e:\n",
    "    print(f\"An error occurred: {e}\")\n",
    "except Exception as e:\n",
    "    print(f\"An unexpected error occurred: {e}\")\n"
   ]
  },
  {
   "cell_type": "code",
   "execution_count": 34,
   "id": "bdb82911-e5b2-4a48-8264-19d64ace2245",
   "metadata": {},
   "outputs": [
    {
     "name": "stdout",
     "output_type": "stream",
     "text": [
      "Username: CrGPP48oqfB\n"
     ]
    }
   ],
   "source": [
    "from urllib.parse import urlparse\n",
    "\n",
    "def get_username_from_url(url):\n",
    "    parsed_url = urlparse(url)\n",
    "    path_parts = parsed_url.path.split('/')\n",
    "    if len(path_parts) >= 2:\n",
    "        return path_parts[2]\n",
    "    else:\n",
    "        return \"Username not found\"\n",
    "\n",
    "# Test the function\n",
    "url = \"https://www.instagram.com/p/CrGPP48oqfB/\"\n",
    "username = get_username_from_url(url)\n",
    "print(f\"Username: {username}\")"
   ]
  },
  {
   "cell_type": "code",
   "execution_count": 29,
   "id": "ef8c3c47-1fc0-4656-8277-2334a5a19f0c",
   "metadata": {},
   "outputs": [
    {
     "name": "stdout",
     "output_type": "stream",
     "text": [
      "Post owner's username: hyoh456\n"
     ]
    }
   ],
   "source": [
    "import instaloader\n",
    "\n",
    "# Initialize Instaloader object\n",
    "L = instaloader.Instaloader()\n",
    "\n",
    "# Define the shortcode of the post\n",
    "shortcode = 'CrGPP48oqfB'  # Replace with your actual shortcode\n",
    "\n",
    "# Get the Post object\n",
    "post = instaloader.Post.from_shortcode(L.context, shortcode)\n",
    "\n",
    "# Access the owner's username\n",
    "owner_username = post.owner_username\n",
    "\n",
    "# Print the username\n",
    "print(f\"Post owner's username: {owner_username}\")\n"
   ]
  },
  {
   "cell_type": "code",
   "execution_count": 38,
   "id": "4b5960f7-4416-4f56-bdc2-b49f1ed30f71",
   "metadata": {},
   "outputs": [
    {
     "name": "stdout",
     "output_type": "stream",
     "text": [
      "#ootd #arctery× #outdoor #outdoors #explore #gorpcore #goretexstudio #hypebeast #grailed #fashionmoodboard #outdoorlife #hiking #itsbetteroutside #outdoorism #getoutside #gorpworld\n"
     ]
    }
   ],
   "source": [
    "hashtags= [\"ootd\", \"arctery\\u00d7\", \"outdoor\", \"outdoors\", \"explore\", \"gorpcore\", \"goretexstudio\", \"hypebeast\", \"grailed\", \"fashionmoodboard\", \"outdoorlife\", \"hiking\", \"itsbetteroutside\", \"outdoorism\", \"getoutside\", \"gorpworld\"]\n",
    "hashtags = [word.strip().replace('\"', '') for word in hashtags]\n",
    "hashtags_with_hash = ['#' + tag for tag in hashtags]\n",
    "result = ' '.join(hashtags_with_hash)\n",
    "print(result)"
   ]
  },
  {
   "cell_type": "code",
   "execution_count": 39,
   "id": "16fee679-7b5a-4293-a3c0-2462dfe90b52",
   "metadata": {},
   "outputs": [
    {
     "name": "stdout",
     "output_type": "stream",
     "text": [
      "C:\\Users\\User\\AppData\\Local\\Programs\\Python\\Python311\\python.exe\n"
     ]
    }
   ],
   "source": [
    "import sys\n",
    "print(sys.executable)\n"
   ]
  },
  {
   "cell_type": "code",
   "execution_count": null,
   "id": "2bc58edb-ee1b-48b5-9528-5ca02817da49",
   "metadata": {},
   "outputs": [],
   "source": []
  }
 ],
 "metadata": {
  "kernelspec": {
   "display_name": "Python 3 (ipykernel)",
   "language": "python",
   "name": "python3"
  },
  "language_info": {
   "codemirror_mode": {
    "name": "ipython",
    "version": 3
   },
   "file_extension": ".py",
   "mimetype": "text/x-python",
   "name": "python",
   "nbconvert_exporter": "python",
   "pygments_lexer": "ipython3",
   "version": "3.11.5"
  }
 },
 "nbformat": 4,
 "nbformat_minor": 5
}
