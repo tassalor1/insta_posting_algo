{
 "cells": [
  {
   "cell_type": "code",
   "execution_count": null,
   "id": "f01b8d75-0b72-48cf-93df-a512d3633fd6",
   "metadata": {},
   "outputs": [],
   "source": [
    "import requests\n",
    "from credentials_img_posting import insta_api, insta_user_id\n",
    "import os\n",
    "import sqlite3\n",
    "import logging\n",
    "from google.oauth2.service_account import Credentials\n",
    "from googleapiclient.discovery import build\n",
    "from googleapiclient.http import MediaFileUpload"
   ]
  }
 ],
 "metadata": {
  "kernelspec": {
   "display_name": "Python 3 (ipykernel)",
   "language": "python",
   "name": "python3"
  },
  "language_info": {
   "codemirror_mode": {
    "name": "ipython",
    "version": 3
   },
   "file_extension": ".py",
   "mimetype": "text/x-python",
   "name": "python",
   "nbconvert_exporter": "python",
   "pygments_lexer": "ipython3",
   "version": "3.11.5"
  }
 },
 "nbformat": 4,
 "nbformat_minor": 5
}
