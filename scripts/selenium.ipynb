{
 "cells": [
  {
   "cell_type": "code",
   "execution_count": 1,
   "id": "9f8727ed-c307-4697-a3ab-1ce9deebf297",
   "metadata": {},
   "outputs": [],
   "source": [
    "from selenium import webdriver\n",
    "from selenium.webdriver.common.keys import Keys\n",
    "import time, urllib.request\n",
    "import requests\n",
    "import time\n",
    "from selenium import webdriver\n",
    "from selenium.webdriver.common.by import By\n",
    "from selenium.webdriver.chrome.options import Options\n",
    "from selenium.webdriver.support.ui import WebDriverWait\n",
    "from selenium.webdriver.support import expected_conditions as EC\n",
    "from bs4 import BeautifulSoup"
   ]
  },
  {
   "cell_type": "code",
   "execution_count": 2,
   "id": "bebef2f2-96e8-48a6-944e-c8bc2f922927",
   "metadata": {},
   "outputs": [],
   "source": [
    "PATH = r\"D:\\coding\\chromedriver.exe\"\n",
    "options = Options()\n",
    "options.add_argument(\"--executable-path=\" + PATH)\n",
    "driver = webdriver.Chrome(options=options)"
   ]
  },
  {
   "cell_type": "code",
   "execution_count": 3,
   "id": "0e32db00-c95f-4fe3-ab9b-2f9960344072",
   "metadata": {},
   "outputs": [],
   "source": [
    "driver.get(\"https://www.instagram.com/\")"
   ]
  },
  {
   "cell_type": "code",
   "execution_count": 5,
   "id": "b7a3f523-e5f1-43b7-8aba-0d4641b2569e",
   "metadata": {},
   "outputs": [],
   "source": [
    "user = 'clave.xt'\n",
    "code = 'Fuckhtmlrat'"
   ]
  },
  {
   "cell_type": "code",
   "execution_count": 6,
   "id": "ecbad180-9736-4b2b-8181-9ff991bf3827",
   "metadata": {},
   "outputs": [],
   "source": [
    "time.sleep(5)\n",
    "username = driver.find_element(By.CSS_SELECTOR, \"input[name='username']\")\n",
    "password = driver.find_element(By.CSS_SELECTOR, \"input[name='password']\")\n",
    "username.clear()\n",
    "password.clear()\n",
    "\n",
    "username.send_keys({user})\n",
    "password.send_keys({code})\n",
    "\n",
    "login_button = driver.find_element(By.CSS_SELECTOR, \"button[type='submit']\")\n",
    "login_button.click()"
   ]
  },
  {
   "cell_type": "code",
   "execution_count": 7,
   "id": "3c32fada-f33b-48f6-84fd-f94e1dcdaae2",
   "metadata": {},
   "outputs": [],
   "source": [
    "driver.get(\"https://www.instagram.com/explore/tags/arcteryx/\")"
   ]
  },
  {
   "cell_type": "code",
   "execution_count": 8,
   "id": "dc3bfb06-253f-48a9-81b4-126cf5c78c55",
   "metadata": {},
   "outputs": [],
   "source": [
    "soup = BeautifulSoup(driver.page_source, 'html.parser')\n",
    "\n",
    "# Find all posts\n",
    "posts = soup.find_all('div', {'class': 'v1Nh3'})\n",
    "\n",
    "# Initialize list to store post details\n",
    "top_10_posts = []"
   ]
  },
  {
   "cell_type": "code",
   "execution_count": 9,
   "id": "e1611612-a236-4eec-9e1e-bf4dc5321e2d",
   "metadata": {},
   "outputs": [
    {
     "ename": "TimeoutException",
     "evalue": "Message: \nStacktrace:\n\tGetHandleVerifier [0x00007FF67C3252A2+57122]\n\t(No symbol) [0x00007FF67C29EA92]\n\t(No symbol) [0x00007FF67C16E3AB]\n\t(No symbol) [0x00007FF67C1A7D3E]\n\t(No symbol) [0x00007FF67C1A7E2C]\n\t(No symbol) [0x00007FF67C1E0B67]\n\t(No symbol) [0x00007FF67C1C701F]\n\t(No symbol) [0x00007FF67C1DEB82]\n\t(No symbol) [0x00007FF67C1C6DB3]\n\t(No symbol) [0x00007FF67C19D2B1]\n\t(No symbol) [0x00007FF67C19E494]\n\tGetHandleVerifier [0x00007FF67C5CEF82+2849794]\n\tGetHandleVerifier [0x00007FF67C621D24+3189156]\n\tGetHandleVerifier [0x00007FF67C61ACAF+3160367]\n\tGetHandleVerifier [0x00007FF67C3B6D06+653702]\n\t(No symbol) [0x00007FF67C2AA208]\n\t(No symbol) [0x00007FF67C2A62C4]\n\t(No symbol) [0x00007FF67C2A63F6]\n\t(No symbol) [0x00007FF67C2967A3]\n\tBaseThreadInitThunk [0x00007FF93F9226AD+29]\n\tRtlUserThreadStart [0x00007FF94004AA68+40]\n",
     "output_type": "error",
     "traceback": [
      "\u001b[1;31m---------------------------------------------------------------------------\u001b[0m",
      "\u001b[1;31mTimeoutException\u001b[0m                          Traceback (most recent call last)",
      "Cell \u001b[1;32mIn[9], line 6\u001b[0m\n\u001b[0;32m      4\u001b[0m \u001b[38;5;66;03m# Wait for posts to load\u001b[39;00m\n\u001b[0;32m      5\u001b[0m wait \u001b[38;5;241m=\u001b[39m WebDriverWait(driver, \u001b[38;5;241m20\u001b[39m)\n\u001b[1;32m----> 6\u001b[0m \u001b[43mwait\u001b[49m\u001b[38;5;241;43m.\u001b[39;49m\u001b[43muntil\u001b[49m\u001b[43m(\u001b[49m\u001b[43mEC\u001b[49m\u001b[38;5;241;43m.\u001b[39;49m\u001b[43mpresence_of_element_located\u001b[49m\u001b[43m(\u001b[49m\u001b[43m(\u001b[49m\u001b[43mBy\u001b[49m\u001b[38;5;241;43m.\u001b[39;49m\u001b[43mCSS_SELECTOR\u001b[49m\u001b[43m,\u001b[49m\u001b[43m \u001b[49m\u001b[38;5;124;43m'\u001b[39;49m\u001b[38;5;124;43mdiv.v1Nh3 a\u001b[39;49m\u001b[38;5;124;43m'\u001b[39;49m\u001b[43m)\u001b[49m\u001b[43m)\u001b[49m\u001b[43m)\u001b[49m\n\u001b[0;32m      9\u001b[0m \u001b[38;5;66;03m# Loop through the top 10 posts\u001b[39;00m\n\u001b[0;32m     10\u001b[0m \u001b[38;5;28;01mfor\u001b[39;00m i \u001b[38;5;129;01min\u001b[39;00m \u001b[38;5;28mrange\u001b[39m(\u001b[38;5;241m10\u001b[39m):\n\u001b[0;32m     11\u001b[0m     \u001b[38;5;66;03m# Find and click on the post\u001b[39;00m\n",
      "File \u001b[1;32m~\\AppData\\Local\\Programs\\Python\\Python311\\Lib\\site-packages\\selenium\\webdriver\\support\\wait.py:95\u001b[0m, in \u001b[0;36mWebDriverWait.until\u001b[1;34m(self, method, message)\u001b[0m\n\u001b[0;32m     93\u001b[0m     \u001b[38;5;28;01mif\u001b[39;00m time\u001b[38;5;241m.\u001b[39mmonotonic() \u001b[38;5;241m>\u001b[39m end_time:\n\u001b[0;32m     94\u001b[0m         \u001b[38;5;28;01mbreak\u001b[39;00m\n\u001b[1;32m---> 95\u001b[0m \u001b[38;5;28;01mraise\u001b[39;00m TimeoutException(message, screen, stacktrace)\n",
      "\u001b[1;31mTimeoutException\u001b[0m: Message: \nStacktrace:\n\tGetHandleVerifier [0x00007FF67C3252A2+57122]\n\t(No symbol) [0x00007FF67C29EA92]\n\t(No symbol) [0x00007FF67C16E3AB]\n\t(No symbol) [0x00007FF67C1A7D3E]\n\t(No symbol) [0x00007FF67C1A7E2C]\n\t(No symbol) [0x00007FF67C1E0B67]\n\t(No symbol) [0x00007FF67C1C701F]\n\t(No symbol) [0x00007FF67C1DEB82]\n\t(No symbol) [0x00007FF67C1C6DB3]\n\t(No symbol) [0x00007FF67C19D2B1]\n\t(No symbol) [0x00007FF67C19E494]\n\tGetHandleVerifier [0x00007FF67C5CEF82+2849794]\n\tGetHandleVerifier [0x00007FF67C621D24+3189156]\n\tGetHandleVerifier [0x00007FF67C61ACAF+3160367]\n\tGetHandleVerifier [0x00007FF67C3B6D06+653702]\n\t(No symbol) [0x00007FF67C2AA208]\n\t(No symbol) [0x00007FF67C2A62C4]\n\t(No symbol) [0x00007FF67C2A63F6]\n\t(No symbol) [0x00007FF67C2967A3]\n\tBaseThreadInitThunk [0x00007FF93F9226AD+29]\n\tRtlUserThreadStart [0x00007FF94004AA68+40]\n"
     ]
    }
   ],
   "source": [
    "# Initialize an empty list to store post details\n",
    "top_10_posts = []\n",
    "\n",
    "# Wait for posts to load\n",
    "wait = WebDriverWait(driver, 20)\n",
    "wait.until(EC.presence_of_element_located((By.CSS_SELECTOR, 'div.v1Nh3 a')))\n",
    "\n",
    "\n",
    "# Loop through the top 10 posts\n",
    "for i in range(10):\n",
    "    # Find and click on the post\n",
    "    post = driver.find_elements(By.CSS_SELECTOR, 'div.v1Nh3 a')[i]\n",
    "    post.click()\n",
    "    \n",
    "    # Wait for the post to load\n",
    "    wait.until(EC.presence_of_element_located((By.CSS_SELECTOR, 'time')))\n",
    "    \n",
    "    # Extract post details\n",
    "    post_details = {}\n",
    "    post_details['time'] = driver.find_element(By.CSS_SELECTOR, 'time').get_attribute('datetime')\n",
    "    post_details['likes'] = driver.find_element(By.CSS_SELECTOR, 'section.EDfFK span').text\n",
    "    post_details['caption'] = driver.find_element(By.CSS_SELECTOR, 'div.C4VMK > span').text\n",
    "    \n",
    "    # Add to list\n",
    "    top_10_posts.append(post_details)\n",
    "    \n",
    "    # Close the post and wait\n",
    "    driver.find_element(By.CSS_SELECTOR, 'button.wpO6b').click()\n",
    "    time.sleep(2)\n",
    "\n",
    "# Print the top 10 posts\n",
    "print(top_10_posts)"
   ]
  },
  {
   "cell_type": "code",
   "execution_count": null,
   "id": "3f4ab375-90ae-4ab5-b90c-f93725eff419",
   "metadata": {},
   "outputs": [],
   "source": [
    "print(top_10_posts)"
   ]
  },
  {
   "cell_type": "code",
   "execution_count": null,
   "id": "3a8ea765-7880-49cb-855d-1e9617292b18",
   "metadata": {},
   "outputs": [],
   "source": []
  }
 ],
 "metadata": {
  "kernelspec": {
   "display_name": "Python 3 (ipykernel)",
   "language": "python",
   "name": "python3"
  },
  "language_info": {
   "codemirror_mode": {
    "name": "ipython",
    "version": 3
   },
   "file_extension": ".py",
   "mimetype": "text/x-python",
   "name": "python",
   "nbconvert_exporter": "python",
   "pygments_lexer": "ipython3",
   "version": "3.11.5"
  }
 },
 "nbformat": 4,
 "nbformat_minor": 5
}
