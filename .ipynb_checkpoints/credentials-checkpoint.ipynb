{
 "cells": [
  {
   "cell_type": "code",
   "execution_count": 2,
   "id": "26084522-f3ed-42cb-8b69-4ff61dd06d2f",
   "metadata": {},
   "outputs": [],
   "source": [
    "APIFY_API_KEY = \"apify_api_VfYMRA9EmVQQVcirL4sjgG9s39Y1AD3UVvwZ\""
   ]
  },
  {
   "cell_type": "code",
   "execution_count": null,
   "id": "9bb070f7-2a51-466d-934d-6579b13f85ca",
   "metadata": {},
   "outputs": [],
   "source": []
  }
 ],
 "metadata": {
  "kernelspec": {
   "display_name": "Python 3 (ipykernel)",
   "language": "python",
   "name": "python3"
  },
  "language_info": {
   "codemirror_mode": {
    "name": "ipython",
    "version": 3
   },
   "file_extension": ".py",
   "mimetype": "text/x-python",
   "name": "python",
   "nbconvert_exporter": "python",
   "pygments_lexer": "ipython3",
   "version": "3.11.5"
  }
 },
 "nbformat": 4,
 "nbformat_minor": 5
}
