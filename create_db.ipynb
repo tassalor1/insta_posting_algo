{
 "cells": [
  {
   "cell_type": "code",
   "execution_count": 4,
   "id": "4e78da61-dd30-40c4-acf2-6725f6c1713d",
   "metadata": {},
   "outputs": [],
   "source": [
    "import sqlite3"
   ]
  },
  {
   "cell_type": "code",
   "execution_count": 19,
   "id": "ac167c63-0d3f-46b8-86c9-6b18654499e0",
   "metadata": {},
   "outputs": [
    {
     "name": "stdout",
     "output_type": "stream",
     "text": [
      "Database and table created successfully.\n"
     ]
    }
   ],
   "source": [
    "conn = sqlite3.connect('insta_hashtag_data.db')\n",
    "\n",
    "cur = conn.cursor()\n",
    "\n",
    "create_table_query = \"\"\"\n",
    "CREATE TABLE IF NOT EXISTS insta_hashtag_data (\n",
    "    id TEXT PRIMARY KEY,\n",
    "    type TEXT,\n",
    "    shortCode TEXT,\n",
    "    caption TEXT,\n",
    "    hashtags TEXT,\n",
    "    mentions TEXT,\n",
    "    url TEXT,\n",
    "    commentsCount INTEGER,\n",
    "    dimensionsHeight INTEGER,\n",
    "    dimensionsWidth INTEGER,\n",
    "    displayUrl TEXT,\n",
    "    images TEXT,\n",
    "    alt TEXT,\n",
    "    likesCount INTEGER,\n",
    "    timestamp TEXT,\n",
    "    ownerId TEXT\n",
    ");\n",
    "\"\"\"\n",
    "\n",
    "\n",
    "cur.execute(create_table_query)\n",
    "\n",
    "\n",
    "conn.commit()\n",
    "conn.close()\n",
    "\n",
    "print(\"Database and table created successfully.\")"
   ]
  },
  {
   "cell_type": "code",
   "execution_count": 20,
   "id": "60e8f5ff-65e6-4cc5-a50c-cbc978d41d46",
   "metadata": {},
   "outputs": [
    {
     "name": "stdout",
     "output_type": "stream",
     "text": [
      "The sql extension is already loaded. To reload it, use:\n",
      "  %reload_ext sql\n"
     ]
    }
   ],
   "source": [
    "%load_ext sql\n",
    "%sql sqlite:///insta_hashtag_data.db"
   ]
  },
  {
   "cell_type": "code",
   "execution_count": 21,
   "id": "55033483-2a18-4ac0-8849-f15b757eba82",
   "metadata": {},
   "outputs": [
    {
     "name": "stdout",
     "output_type": "stream",
     "text": [
      "   sqlite:///hashtag.db\n",
      "   sqlite:///hashtags.db\n",
      " * sqlite:///insta_hashtag_data.db\n",
      "Done.\n"
     ]
    },
    {
     "data": {
      "text/html": [
       "<table>\n",
       "    <thead>\n",
       "        <tr>\n",
       "            <th>id</th>\n",
       "            <th>type</th>\n",
       "            <th>shortCode</th>\n",
       "            <th>caption</th>\n",
       "            <th>hashtags</th>\n",
       "            <th>mentions</th>\n",
       "            <th>url</th>\n",
       "            <th>commentsCount</th>\n",
       "            <th>dimensionsHeight</th>\n",
       "            <th>dimensionsWidth</th>\n",
       "            <th>displayUrl</th>\n",
       "            <th>images</th>\n",
       "            <th>alt</th>\n",
       "            <th>likesCount</th>\n",
       "            <th>timestamp</th>\n",
       "            <th>ownerId</th>\n",
       "        </tr>\n",
       "    </thead>\n",
       "    <tbody>\n",
       "    </tbody>\n",
       "</table>"
      ],
      "text/plain": [
       "[]"
      ]
     },
     "execution_count": 21,
     "metadata": {},
     "output_type": "execute_result"
    }
   ],
   "source": [
    "%sql select * from insta_hashtag_data"
   ]
  },
  {
   "cell_type": "code",
   "execution_count": null,
   "id": "84558f6a-d13f-4b14-912f-77ab774a2f02",
   "metadata": {},
   "outputs": [],
   "source": []
  }
 ],
 "metadata": {
  "kernelspec": {
   "display_name": "Python 3 (ipykernel)",
   "language": "python",
   "name": "python3"
  },
  "language_info": {
   "codemirror_mode": {
    "name": "ipython",
    "version": 3
   },
   "file_extension": ".py",
   "mimetype": "text/x-python",
   "name": "python",
   "nbconvert_exporter": "python",
   "pygments_lexer": "ipython3",
   "version": "3.11.5"
  }
 },
 "nbformat": 4,
 "nbformat_minor": 5
}
